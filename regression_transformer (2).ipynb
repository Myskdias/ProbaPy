{
  "nbformat": 4,
  "nbformat_minor": 0,
  "metadata": {
    "colab": {
      "provenance": [],
      "gpuType": "T4"
    },
    "kernelspec": {
      "name": "python3",
      "display_name": "Python 3"
    },
    "language_info": {
      "name": "python"
    },
    "widgets": {
      "application/vnd.jupyter.widget-state+json": {
        "6e32e39252fd4538b137e950de4059ad": {
          "model_module": "@jupyter-widgets/controls",
          "model_name": "HBoxModel",
          "model_module_version": "1.5.0",
          "state": {
            "_dom_classes": [],
            "_model_module": "@jupyter-widgets/controls",
            "_model_module_version": "1.5.0",
            "_model_name": "HBoxModel",
            "_view_count": null,
            "_view_module": "@jupyter-widgets/controls",
            "_view_module_version": "1.5.0",
            "_view_name": "HBoxView",
            "box_style": "",
            "children": [
              "IPY_MODEL_31a7d64bf09a4b55bfa1adec5c6018ae",
              "IPY_MODEL_90e3e6fce1544525927133e7009e928c",
              "IPY_MODEL_7f07d2cfdd2a4e89b83b474744920843"
            ],
            "layout": "IPY_MODEL_436e3a9408df4a34a45932d8dd543ab7"
          }
        },
        "31a7d64bf09a4b55bfa1adec5c6018ae": {
          "model_module": "@jupyter-widgets/controls",
          "model_name": "HTMLModel",
          "model_module_version": "1.5.0",
          "state": {
            "_dom_classes": [],
            "_model_module": "@jupyter-widgets/controls",
            "_model_module_version": "1.5.0",
            "_model_name": "HTMLModel",
            "_view_count": null,
            "_view_module": "@jupyter-widgets/controls",
            "_view_module_version": "1.5.0",
            "_view_name": "HTMLView",
            "description": "",
            "description_tooltip": null,
            "layout": "IPY_MODEL_1d74364411b4479ea93f4cf3a15d7178",
            "placeholder": "​",
            "style": "IPY_MODEL_23d0a4c595c94217a96b5f8d76d4c0d8",
            "value": "Map: 100%"
          }
        },
        "90e3e6fce1544525927133e7009e928c": {
          "model_module": "@jupyter-widgets/controls",
          "model_name": "FloatProgressModel",
          "model_module_version": "1.5.0",
          "state": {
            "_dom_classes": [],
            "_model_module": "@jupyter-widgets/controls",
            "_model_module_version": "1.5.0",
            "_model_name": "FloatProgressModel",
            "_view_count": null,
            "_view_module": "@jupyter-widgets/controls",
            "_view_module_version": "1.5.0",
            "_view_name": "ProgressView",
            "bar_style": "success",
            "description": "",
            "description_tooltip": null,
            "layout": "IPY_MODEL_ece01f07278441bd937196e9f46da044",
            "max": 80,
            "min": 0,
            "orientation": "horizontal",
            "style": "IPY_MODEL_454ff0fdd0794de081303bbbd8aeb504",
            "value": 80
          }
        },
        "7f07d2cfdd2a4e89b83b474744920843": {
          "model_module": "@jupyter-widgets/controls",
          "model_name": "HTMLModel",
          "model_module_version": "1.5.0",
          "state": {
            "_dom_classes": [],
            "_model_module": "@jupyter-widgets/controls",
            "_model_module_version": "1.5.0",
            "_model_name": "HTMLModel",
            "_view_count": null,
            "_view_module": "@jupyter-widgets/controls",
            "_view_module_version": "1.5.0",
            "_view_name": "HTMLView",
            "description": "",
            "description_tooltip": null,
            "layout": "IPY_MODEL_58ed890711e8425ea83f94bd1ac40b56",
            "placeholder": "​",
            "style": "IPY_MODEL_d5e1b159de654e79a74ddca782037605",
            "value": " 80/80 [00:00&lt;00:00, 156.54 examples/s]"
          }
        },
        "436e3a9408df4a34a45932d8dd543ab7": {
          "model_module": "@jupyter-widgets/base",
          "model_name": "LayoutModel",
          "model_module_version": "1.2.0",
          "state": {
            "_model_module": "@jupyter-widgets/base",
            "_model_module_version": "1.2.0",
            "_model_name": "LayoutModel",
            "_view_count": null,
            "_view_module": "@jupyter-widgets/base",
            "_view_module_version": "1.2.0",
            "_view_name": "LayoutView",
            "align_content": null,
            "align_items": null,
            "align_self": null,
            "border": null,
            "bottom": null,
            "display": null,
            "flex": null,
            "flex_flow": null,
            "grid_area": null,
            "grid_auto_columns": null,
            "grid_auto_flow": null,
            "grid_auto_rows": null,
            "grid_column": null,
            "grid_gap": null,
            "grid_row": null,
            "grid_template_areas": null,
            "grid_template_columns": null,
            "grid_template_rows": null,
            "height": null,
            "justify_content": null,
            "justify_items": null,
            "left": null,
            "margin": null,
            "max_height": null,
            "max_width": null,
            "min_height": null,
            "min_width": null,
            "object_fit": null,
            "object_position": null,
            "order": null,
            "overflow": null,
            "overflow_x": null,
            "overflow_y": null,
            "padding": null,
            "right": null,
            "top": null,
            "visibility": null,
            "width": null
          }
        },
        "1d74364411b4479ea93f4cf3a15d7178": {
          "model_module": "@jupyter-widgets/base",
          "model_name": "LayoutModel",
          "model_module_version": "1.2.0",
          "state": {
            "_model_module": "@jupyter-widgets/base",
            "_model_module_version": "1.2.0",
            "_model_name": "LayoutModel",
            "_view_count": null,
            "_view_module": "@jupyter-widgets/base",
            "_view_module_version": "1.2.0",
            "_view_name": "LayoutView",
            "align_content": null,
            "align_items": null,
            "align_self": null,
            "border": null,
            "bottom": null,
            "display": null,
            "flex": null,
            "flex_flow": null,
            "grid_area": null,
            "grid_auto_columns": null,
            "grid_auto_flow": null,
            "grid_auto_rows": null,
            "grid_column": null,
            "grid_gap": null,
            "grid_row": null,
            "grid_template_areas": null,
            "grid_template_columns": null,
            "grid_template_rows": null,
            "height": null,
            "justify_content": null,
            "justify_items": null,
            "left": null,
            "margin": null,
            "max_height": null,
            "max_width": null,
            "min_height": null,
            "min_width": null,
            "object_fit": null,
            "object_position": null,
            "order": null,
            "overflow": null,
            "overflow_x": null,
            "overflow_y": null,
            "padding": null,
            "right": null,
            "top": null,
            "visibility": null,
            "width": null
          }
        },
        "23d0a4c595c94217a96b5f8d76d4c0d8": {
          "model_module": "@jupyter-widgets/controls",
          "model_name": "DescriptionStyleModel",
          "model_module_version": "1.5.0",
          "state": {
            "_model_module": "@jupyter-widgets/controls",
            "_model_module_version": "1.5.0",
            "_model_name": "DescriptionStyleModel",
            "_view_count": null,
            "_view_module": "@jupyter-widgets/base",
            "_view_module_version": "1.2.0",
            "_view_name": "StyleView",
            "description_width": ""
          }
        },
        "ece01f07278441bd937196e9f46da044": {
          "model_module": "@jupyter-widgets/base",
          "model_name": "LayoutModel",
          "model_module_version": "1.2.0",
          "state": {
            "_model_module": "@jupyter-widgets/base",
            "_model_module_version": "1.2.0",
            "_model_name": "LayoutModel",
            "_view_count": null,
            "_view_module": "@jupyter-widgets/base",
            "_view_module_version": "1.2.0",
            "_view_name": "LayoutView",
            "align_content": null,
            "align_items": null,
            "align_self": null,
            "border": null,
            "bottom": null,
            "display": null,
            "flex": null,
            "flex_flow": null,
            "grid_area": null,
            "grid_auto_columns": null,
            "grid_auto_flow": null,
            "grid_auto_rows": null,
            "grid_column": null,
            "grid_gap": null,
            "grid_row": null,
            "grid_template_areas": null,
            "grid_template_columns": null,
            "grid_template_rows": null,
            "height": null,
            "justify_content": null,
            "justify_items": null,
            "left": null,
            "margin": null,
            "max_height": null,
            "max_width": null,
            "min_height": null,
            "min_width": null,
            "object_fit": null,
            "object_position": null,
            "order": null,
            "overflow": null,
            "overflow_x": null,
            "overflow_y": null,
            "padding": null,
            "right": null,
            "top": null,
            "visibility": null,
            "width": null
          }
        },
        "454ff0fdd0794de081303bbbd8aeb504": {
          "model_module": "@jupyter-widgets/controls",
          "model_name": "ProgressStyleModel",
          "model_module_version": "1.5.0",
          "state": {
            "_model_module": "@jupyter-widgets/controls",
            "_model_module_version": "1.5.0",
            "_model_name": "ProgressStyleModel",
            "_view_count": null,
            "_view_module": "@jupyter-widgets/base",
            "_view_module_version": "1.2.0",
            "_view_name": "StyleView",
            "bar_color": null,
            "description_width": ""
          }
        },
        "58ed890711e8425ea83f94bd1ac40b56": {
          "model_module": "@jupyter-widgets/base",
          "model_name": "LayoutModel",
          "model_module_version": "1.2.0",
          "state": {
            "_model_module": "@jupyter-widgets/base",
            "_model_module_version": "1.2.0",
            "_model_name": "LayoutModel",
            "_view_count": null,
            "_view_module": "@jupyter-widgets/base",
            "_view_module_version": "1.2.0",
            "_view_name": "LayoutView",
            "align_content": null,
            "align_items": null,
            "align_self": null,
            "border": null,
            "bottom": null,
            "display": null,
            "flex": null,
            "flex_flow": null,
            "grid_area": null,
            "grid_auto_columns": null,
            "grid_auto_flow": null,
            "grid_auto_rows": null,
            "grid_column": null,
            "grid_gap": null,
            "grid_row": null,
            "grid_template_areas": null,
            "grid_template_columns": null,
            "grid_template_rows": null,
            "height": null,
            "justify_content": null,
            "justify_items": null,
            "left": null,
            "margin": null,
            "max_height": null,
            "max_width": null,
            "min_height": null,
            "min_width": null,
            "object_fit": null,
            "object_position": null,
            "order": null,
            "overflow": null,
            "overflow_x": null,
            "overflow_y": null,
            "padding": null,
            "right": null,
            "top": null,
            "visibility": null,
            "width": null
          }
        },
        "d5e1b159de654e79a74ddca782037605": {
          "model_module": "@jupyter-widgets/controls",
          "model_name": "DescriptionStyleModel",
          "model_module_version": "1.5.0",
          "state": {
            "_model_module": "@jupyter-widgets/controls",
            "_model_module_version": "1.5.0",
            "_model_name": "DescriptionStyleModel",
            "_view_count": null,
            "_view_module": "@jupyter-widgets/base",
            "_view_module_version": "1.2.0",
            "_view_name": "StyleView",
            "description_width": ""
          }
        },
        "f502515d57af49bc84db69fe2c0a6a77": {
          "model_module": "@jupyter-widgets/controls",
          "model_name": "HBoxModel",
          "model_module_version": "1.5.0",
          "state": {
            "_dom_classes": [],
            "_model_module": "@jupyter-widgets/controls",
            "_model_module_version": "1.5.0",
            "_model_name": "HBoxModel",
            "_view_count": null,
            "_view_module": "@jupyter-widgets/controls",
            "_view_module_version": "1.5.0",
            "_view_name": "HBoxView",
            "box_style": "",
            "children": [
              "IPY_MODEL_cd25f7eb427b4ec596a71825a425d1a7",
              "IPY_MODEL_a6535bd81f1b41f2a76b91ab7d80a0aa",
              "IPY_MODEL_1cebce7664384faab905dc336b8153b7"
            ],
            "layout": "IPY_MODEL_17ae06650c274503a32920ab54e937be"
          }
        },
        "cd25f7eb427b4ec596a71825a425d1a7": {
          "model_module": "@jupyter-widgets/controls",
          "model_name": "HTMLModel",
          "model_module_version": "1.5.0",
          "state": {
            "_dom_classes": [],
            "_model_module": "@jupyter-widgets/controls",
            "_model_module_version": "1.5.0",
            "_model_name": "HTMLModel",
            "_view_count": null,
            "_view_module": "@jupyter-widgets/controls",
            "_view_module_version": "1.5.0",
            "_view_name": "HTMLView",
            "description": "",
            "description_tooltip": null,
            "layout": "IPY_MODEL_f8a7e56c6c14489e8a007ca30c717a82",
            "placeholder": "​",
            "style": "IPY_MODEL_b62ec6ad64f34b96a3e9594109c117c1",
            "value": "Map: 100%"
          }
        },
        "a6535bd81f1b41f2a76b91ab7d80a0aa": {
          "model_module": "@jupyter-widgets/controls",
          "model_name": "FloatProgressModel",
          "model_module_version": "1.5.0",
          "state": {
            "_dom_classes": [],
            "_model_module": "@jupyter-widgets/controls",
            "_model_module_version": "1.5.0",
            "_model_name": "FloatProgressModel",
            "_view_count": null,
            "_view_module": "@jupyter-widgets/controls",
            "_view_module_version": "1.5.0",
            "_view_name": "ProgressView",
            "bar_style": "success",
            "description": "",
            "description_tooltip": null,
            "layout": "IPY_MODEL_1cbfd0dc1bc944189659e0c7059db6eb",
            "max": 20,
            "min": 0,
            "orientation": "horizontal",
            "style": "IPY_MODEL_55824a4ceec2441a84cefe5e38ad1d9a",
            "value": 20
          }
        },
        "1cebce7664384faab905dc336b8153b7": {
          "model_module": "@jupyter-widgets/controls",
          "model_name": "HTMLModel",
          "model_module_version": "1.5.0",
          "state": {
            "_dom_classes": [],
            "_model_module": "@jupyter-widgets/controls",
            "_model_module_version": "1.5.0",
            "_model_name": "HTMLModel",
            "_view_count": null,
            "_view_module": "@jupyter-widgets/controls",
            "_view_module_version": "1.5.0",
            "_view_name": "HTMLView",
            "description": "",
            "description_tooltip": null,
            "layout": "IPY_MODEL_2af60952b91f40ecb34f659bad120b8d",
            "placeholder": "​",
            "style": "IPY_MODEL_66760e2a2ba34f35a28582617d07ba62",
            "value": " 20/20 [00:00&lt;00:00, 198.00 examples/s]"
          }
        },
        "17ae06650c274503a32920ab54e937be": {
          "model_module": "@jupyter-widgets/base",
          "model_name": "LayoutModel",
          "model_module_version": "1.2.0",
          "state": {
            "_model_module": "@jupyter-widgets/base",
            "_model_module_version": "1.2.0",
            "_model_name": "LayoutModel",
            "_view_count": null,
            "_view_module": "@jupyter-widgets/base",
            "_view_module_version": "1.2.0",
            "_view_name": "LayoutView",
            "align_content": null,
            "align_items": null,
            "align_self": null,
            "border": null,
            "bottom": null,
            "display": null,
            "flex": null,
            "flex_flow": null,
            "grid_area": null,
            "grid_auto_columns": null,
            "grid_auto_flow": null,
            "grid_auto_rows": null,
            "grid_column": null,
            "grid_gap": null,
            "grid_row": null,
            "grid_template_areas": null,
            "grid_template_columns": null,
            "grid_template_rows": null,
            "height": null,
            "justify_content": null,
            "justify_items": null,
            "left": null,
            "margin": null,
            "max_height": null,
            "max_width": null,
            "min_height": null,
            "min_width": null,
            "object_fit": null,
            "object_position": null,
            "order": null,
            "overflow": null,
            "overflow_x": null,
            "overflow_y": null,
            "padding": null,
            "right": null,
            "top": null,
            "visibility": null,
            "width": null
          }
        },
        "f8a7e56c6c14489e8a007ca30c717a82": {
          "model_module": "@jupyter-widgets/base",
          "model_name": "LayoutModel",
          "model_module_version": "1.2.0",
          "state": {
            "_model_module": "@jupyter-widgets/base",
            "_model_module_version": "1.2.0",
            "_model_name": "LayoutModel",
            "_view_count": null,
            "_view_module": "@jupyter-widgets/base",
            "_view_module_version": "1.2.0",
            "_view_name": "LayoutView",
            "align_content": null,
            "align_items": null,
            "align_self": null,
            "border": null,
            "bottom": null,
            "display": null,
            "flex": null,
            "flex_flow": null,
            "grid_area": null,
            "grid_auto_columns": null,
            "grid_auto_flow": null,
            "grid_auto_rows": null,
            "grid_column": null,
            "grid_gap": null,
            "grid_row": null,
            "grid_template_areas": null,
            "grid_template_columns": null,
            "grid_template_rows": null,
            "height": null,
            "justify_content": null,
            "justify_items": null,
            "left": null,
            "margin": null,
            "max_height": null,
            "max_width": null,
            "min_height": null,
            "min_width": null,
            "object_fit": null,
            "object_position": null,
            "order": null,
            "overflow": null,
            "overflow_x": null,
            "overflow_y": null,
            "padding": null,
            "right": null,
            "top": null,
            "visibility": null,
            "width": null
          }
        },
        "b62ec6ad64f34b96a3e9594109c117c1": {
          "model_module": "@jupyter-widgets/controls",
          "model_name": "DescriptionStyleModel",
          "model_module_version": "1.5.0",
          "state": {
            "_model_module": "@jupyter-widgets/controls",
            "_model_module_version": "1.5.0",
            "_model_name": "DescriptionStyleModel",
            "_view_count": null,
            "_view_module": "@jupyter-widgets/base",
            "_view_module_version": "1.2.0",
            "_view_name": "StyleView",
            "description_width": ""
          }
        },
        "1cbfd0dc1bc944189659e0c7059db6eb": {
          "model_module": "@jupyter-widgets/base",
          "model_name": "LayoutModel",
          "model_module_version": "1.2.0",
          "state": {
            "_model_module": "@jupyter-widgets/base",
            "_model_module_version": "1.2.0",
            "_model_name": "LayoutModel",
            "_view_count": null,
            "_view_module": "@jupyter-widgets/base",
            "_view_module_version": "1.2.0",
            "_view_name": "LayoutView",
            "align_content": null,
            "align_items": null,
            "align_self": null,
            "border": null,
            "bottom": null,
            "display": null,
            "flex": null,
            "flex_flow": null,
            "grid_area": null,
            "grid_auto_columns": null,
            "grid_auto_flow": null,
            "grid_auto_rows": null,
            "grid_column": null,
            "grid_gap": null,
            "grid_row": null,
            "grid_template_areas": null,
            "grid_template_columns": null,
            "grid_template_rows": null,
            "height": null,
            "justify_content": null,
            "justify_items": null,
            "left": null,
            "margin": null,
            "max_height": null,
            "max_width": null,
            "min_height": null,
            "min_width": null,
            "object_fit": null,
            "object_position": null,
            "order": null,
            "overflow": null,
            "overflow_x": null,
            "overflow_y": null,
            "padding": null,
            "right": null,
            "top": null,
            "visibility": null,
            "width": null
          }
        },
        "55824a4ceec2441a84cefe5e38ad1d9a": {
          "model_module": "@jupyter-widgets/controls",
          "model_name": "ProgressStyleModel",
          "model_module_version": "1.5.0",
          "state": {
            "_model_module": "@jupyter-widgets/controls",
            "_model_module_version": "1.5.0",
            "_model_name": "ProgressStyleModel",
            "_view_count": null,
            "_view_module": "@jupyter-widgets/base",
            "_view_module_version": "1.2.0",
            "_view_name": "StyleView",
            "bar_color": null,
            "description_width": ""
          }
        },
        "2af60952b91f40ecb34f659bad120b8d": {
          "model_module": "@jupyter-widgets/base",
          "model_name": "LayoutModel",
          "model_module_version": "1.2.0",
          "state": {
            "_model_module": "@jupyter-widgets/base",
            "_model_module_version": "1.2.0",
            "_model_name": "LayoutModel",
            "_view_count": null,
            "_view_module": "@jupyter-widgets/base",
            "_view_module_version": "1.2.0",
            "_view_name": "LayoutView",
            "align_content": null,
            "align_items": null,
            "align_self": null,
            "border": null,
            "bottom": null,
            "display": null,
            "flex": null,
            "flex_flow": null,
            "grid_area": null,
            "grid_auto_columns": null,
            "grid_auto_flow": null,
            "grid_auto_rows": null,
            "grid_column": null,
            "grid_gap": null,
            "grid_row": null,
            "grid_template_areas": null,
            "grid_template_columns": null,
            "grid_template_rows": null,
            "height": null,
            "justify_content": null,
            "justify_items": null,
            "left": null,
            "margin": null,
            "max_height": null,
            "max_width": null,
            "min_height": null,
            "min_width": null,
            "object_fit": null,
            "object_position": null,
            "order": null,
            "overflow": null,
            "overflow_x": null,
            "overflow_y": null,
            "padding": null,
            "right": null,
            "top": null,
            "visibility": null,
            "width": null
          }
        },
        "66760e2a2ba34f35a28582617d07ba62": {
          "model_module": "@jupyter-widgets/controls",
          "model_name": "DescriptionStyleModel",
          "model_module_version": "1.5.0",
          "state": {
            "_model_module": "@jupyter-widgets/controls",
            "_model_module_version": "1.5.0",
            "_model_name": "DescriptionStyleModel",
            "_view_count": null,
            "_view_module": "@jupyter-widgets/base",
            "_view_module_version": "1.2.0",
            "_view_name": "StyleView",
            "description_width": ""
          }
        },
        "2806c16174b34841a3f09b5a89021cb6": {
          "model_module": "@jupyter-widgets/controls",
          "model_name": "HBoxModel",
          "model_module_version": "1.5.0",
          "state": {
            "_dom_classes": [],
            "_model_module": "@jupyter-widgets/controls",
            "_model_module_version": "1.5.0",
            "_model_name": "HBoxModel",
            "_view_count": null,
            "_view_module": "@jupyter-widgets/controls",
            "_view_module_version": "1.5.0",
            "_view_name": "HBoxView",
            "box_style": "",
            "children": [
              "IPY_MODEL_031ee759032f4f96a4bc32fd16e377f3",
              "IPY_MODEL_95313d22301240db90a274f0ce68d643",
              "IPY_MODEL_59aedf6280e6454ca5ad4de5c416d38a"
            ],
            "layout": "IPY_MODEL_9503d85bd1be4c159f63522f292b4b7f"
          }
        },
        "031ee759032f4f96a4bc32fd16e377f3": {
          "model_module": "@jupyter-widgets/controls",
          "model_name": "HTMLModel",
          "model_module_version": "1.5.0",
          "state": {
            "_dom_classes": [],
            "_model_module": "@jupyter-widgets/controls",
            "_model_module_version": "1.5.0",
            "_model_name": "HTMLModel",
            "_view_count": null,
            "_view_module": "@jupyter-widgets/controls",
            "_view_module_version": "1.5.0",
            "_view_name": "HTMLView",
            "description": "",
            "description_tooltip": null,
            "layout": "IPY_MODEL_0dc2efb2ba0544d0a1c6edf31a174aba",
            "placeholder": "​",
            "style": "IPY_MODEL_344e851521a14e0c8a4552d38dd28a4e",
            "value": "Downloading builder script: 100%"
          }
        },
        "95313d22301240db90a274f0ce68d643": {
          "model_module": "@jupyter-widgets/controls",
          "model_name": "FloatProgressModel",
          "model_module_version": "1.5.0",
          "state": {
            "_dom_classes": [],
            "_model_module": "@jupyter-widgets/controls",
            "_model_module_version": "1.5.0",
            "_model_name": "FloatProgressModel",
            "_view_count": null,
            "_view_module": "@jupyter-widgets/controls",
            "_view_module_version": "1.5.0",
            "_view_name": "ProgressView",
            "bar_style": "success",
            "description": "",
            "description_tooltip": null,
            "layout": "IPY_MODEL_753c2427663a4598a8d2cbf1016d0127",
            "max": 5749,
            "min": 0,
            "orientation": "horizontal",
            "style": "IPY_MODEL_390ae863c7b147a2a26cb2ada531b443",
            "value": 5749
          }
        },
        "59aedf6280e6454ca5ad4de5c416d38a": {
          "model_module": "@jupyter-widgets/controls",
          "model_name": "HTMLModel",
          "model_module_version": "1.5.0",
          "state": {
            "_dom_classes": [],
            "_model_module": "@jupyter-widgets/controls",
            "_model_module_version": "1.5.0",
            "_model_name": "HTMLModel",
            "_view_count": null,
            "_view_module": "@jupyter-widgets/controls",
            "_view_module_version": "1.5.0",
            "_view_name": "HTMLView",
            "description": "",
            "description_tooltip": null,
            "layout": "IPY_MODEL_a2c9ea5e7cdc4faabd9abbee87072f50",
            "placeholder": "​",
            "style": "IPY_MODEL_731a49dec9bf4a8b950a5d3a0defcb23",
            "value": " 5.75k/5.75k [00:00&lt;00:00, 337kB/s]"
          }
        },
        "9503d85bd1be4c159f63522f292b4b7f": {
          "model_module": "@jupyter-widgets/base",
          "model_name": "LayoutModel",
          "model_module_version": "1.2.0",
          "state": {
            "_model_module": "@jupyter-widgets/base",
            "_model_module_version": "1.2.0",
            "_model_name": "LayoutModel",
            "_view_count": null,
            "_view_module": "@jupyter-widgets/base",
            "_view_module_version": "1.2.0",
            "_view_name": "LayoutView",
            "align_content": null,
            "align_items": null,
            "align_self": null,
            "border": null,
            "bottom": null,
            "display": null,
            "flex": null,
            "flex_flow": null,
            "grid_area": null,
            "grid_auto_columns": null,
            "grid_auto_flow": null,
            "grid_auto_rows": null,
            "grid_column": null,
            "grid_gap": null,
            "grid_row": null,
            "grid_template_areas": null,
            "grid_template_columns": null,
            "grid_template_rows": null,
            "height": null,
            "justify_content": null,
            "justify_items": null,
            "left": null,
            "margin": null,
            "max_height": null,
            "max_width": null,
            "min_height": null,
            "min_width": null,
            "object_fit": null,
            "object_position": null,
            "order": null,
            "overflow": null,
            "overflow_x": null,
            "overflow_y": null,
            "padding": null,
            "right": null,
            "top": null,
            "visibility": null,
            "width": null
          }
        },
        "0dc2efb2ba0544d0a1c6edf31a174aba": {
          "model_module": "@jupyter-widgets/base",
          "model_name": "LayoutModel",
          "model_module_version": "1.2.0",
          "state": {
            "_model_module": "@jupyter-widgets/base",
            "_model_module_version": "1.2.0",
            "_model_name": "LayoutModel",
            "_view_count": null,
            "_view_module": "@jupyter-widgets/base",
            "_view_module_version": "1.2.0",
            "_view_name": "LayoutView",
            "align_content": null,
            "align_items": null,
            "align_self": null,
            "border": null,
            "bottom": null,
            "display": null,
            "flex": null,
            "flex_flow": null,
            "grid_area": null,
            "grid_auto_columns": null,
            "grid_auto_flow": null,
            "grid_auto_rows": null,
            "grid_column": null,
            "grid_gap": null,
            "grid_row": null,
            "grid_template_areas": null,
            "grid_template_columns": null,
            "grid_template_rows": null,
            "height": null,
            "justify_content": null,
            "justify_items": null,
            "left": null,
            "margin": null,
            "max_height": null,
            "max_width": null,
            "min_height": null,
            "min_width": null,
            "object_fit": null,
            "object_position": null,
            "order": null,
            "overflow": null,
            "overflow_x": null,
            "overflow_y": null,
            "padding": null,
            "right": null,
            "top": null,
            "visibility": null,
            "width": null
          }
        },
        "344e851521a14e0c8a4552d38dd28a4e": {
          "model_module": "@jupyter-widgets/controls",
          "model_name": "DescriptionStyleModel",
          "model_module_version": "1.5.0",
          "state": {
            "_model_module": "@jupyter-widgets/controls",
            "_model_module_version": "1.5.0",
            "_model_name": "DescriptionStyleModel",
            "_view_count": null,
            "_view_module": "@jupyter-widgets/base",
            "_view_module_version": "1.2.0",
            "_view_name": "StyleView",
            "description_width": ""
          }
        },
        "753c2427663a4598a8d2cbf1016d0127": {
          "model_module": "@jupyter-widgets/base",
          "model_name": "LayoutModel",
          "model_module_version": "1.2.0",
          "state": {
            "_model_module": "@jupyter-widgets/base",
            "_model_module_version": "1.2.0",
            "_model_name": "LayoutModel",
            "_view_count": null,
            "_view_module": "@jupyter-widgets/base",
            "_view_module_version": "1.2.0",
            "_view_name": "LayoutView",
            "align_content": null,
            "align_items": null,
            "align_self": null,
            "border": null,
            "bottom": null,
            "display": null,
            "flex": null,
            "flex_flow": null,
            "grid_area": null,
            "grid_auto_columns": null,
            "grid_auto_flow": null,
            "grid_auto_rows": null,
            "grid_column": null,
            "grid_gap": null,
            "grid_row": null,
            "grid_template_areas": null,
            "grid_template_columns": null,
            "grid_template_rows": null,
            "height": null,
            "justify_content": null,
            "justify_items": null,
            "left": null,
            "margin": null,
            "max_height": null,
            "max_width": null,
            "min_height": null,
            "min_width": null,
            "object_fit": null,
            "object_position": null,
            "order": null,
            "overflow": null,
            "overflow_x": null,
            "overflow_y": null,
            "padding": null,
            "right": null,
            "top": null,
            "visibility": null,
            "width": null
          }
        },
        "390ae863c7b147a2a26cb2ada531b443": {
          "model_module": "@jupyter-widgets/controls",
          "model_name": "ProgressStyleModel",
          "model_module_version": "1.5.0",
          "state": {
            "_model_module": "@jupyter-widgets/controls",
            "_model_module_version": "1.5.0",
            "_model_name": "ProgressStyleModel",
            "_view_count": null,
            "_view_module": "@jupyter-widgets/base",
            "_view_module_version": "1.2.0",
            "_view_name": "StyleView",
            "bar_color": null,
            "description_width": ""
          }
        },
        "a2c9ea5e7cdc4faabd9abbee87072f50": {
          "model_module": "@jupyter-widgets/base",
          "model_name": "LayoutModel",
          "model_module_version": "1.2.0",
          "state": {
            "_model_module": "@jupyter-widgets/base",
            "_model_module_version": "1.2.0",
            "_model_name": "LayoutModel",
            "_view_count": null,
            "_view_module": "@jupyter-widgets/base",
            "_view_module_version": "1.2.0",
            "_view_name": "LayoutView",
            "align_content": null,
            "align_items": null,
            "align_self": null,
            "border": null,
            "bottom": null,
            "display": null,
            "flex": null,
            "flex_flow": null,
            "grid_area": null,
            "grid_auto_columns": null,
            "grid_auto_flow": null,
            "grid_auto_rows": null,
            "grid_column": null,
            "grid_gap": null,
            "grid_row": null,
            "grid_template_areas": null,
            "grid_template_columns": null,
            "grid_template_rows": null,
            "height": null,
            "justify_content": null,
            "justify_items": null,
            "left": null,
            "margin": null,
            "max_height": null,
            "max_width": null,
            "min_height": null,
            "min_width": null,
            "object_fit": null,
            "object_position": null,
            "order": null,
            "overflow": null,
            "overflow_x": null,
            "overflow_y": null,
            "padding": null,
            "right": null,
            "top": null,
            "visibility": null,
            "width": null
          }
        },
        "731a49dec9bf4a8b950a5d3a0defcb23": {
          "model_module": "@jupyter-widgets/controls",
          "model_name": "DescriptionStyleModel",
          "model_module_version": "1.5.0",
          "state": {
            "_model_module": "@jupyter-widgets/controls",
            "_model_module_version": "1.5.0",
            "_model_name": "DescriptionStyleModel",
            "_view_count": null,
            "_view_module": "@jupyter-widgets/base",
            "_view_module_version": "1.2.0",
            "_view_name": "StyleView",
            "description_width": ""
          }
        }
      }
    },
    "accelerator": "GPU"
  },
  "cells": [
    {
      "cell_type": "code",
      "source": [
        "%%capture\n",
        "!pip install datasets tasknet"
      ],
      "metadata": {
        "collapsed": true,
        "id": "bewDXr1gACTT"
      },
      "execution_count": null,
      "outputs": []
    },
    {
      "cell_type": "code",
      "source": [
        "%%capture\n",
        "! pip install -U accelerate\n",
        "! pip install -U transformers"
      ],
      "metadata": {
        "id": "ItOS4DY5DdwL"
      },
      "execution_count": null,
      "outputs": []
    },
    {
      "cell_type": "code",
      "source": [
        "#!pip install accelerate -U"
      ],
      "metadata": {
        "id": "pkZ5yp4UCLjp"
      },
      "execution_count": null,
      "outputs": []
    },
    {
      "cell_type": "code",
      "source": [
        "from transformers import AutoModelForSequenceClassification, AutoConfig, AutoTokenizer\n",
        "from sklearn.metrics import mean_squared_error\n",
        "import pandas as pd\n",
        "import numpy as np\n",
        "from datasets import load_metric\n",
        "from transformers import Trainer, TrainingArguments\n",
        "from google.colab import drive\n",
        "from datasets import Dataset\n",
        "import random\n",
        "import torch\n",
        "import matplotlib.pyplot as plt\n",
        "\n",
        "%matplotlib inline"
      ],
      "metadata": {
        "id": "iEdKyMorQE4f"
      },
      "execution_count": null,
      "outputs": []
    },
    {
      "cell_type": "code",
      "source": [
        "drive.mount('/content/drive')"
      ],
      "metadata": {
        "colab": {
          "base_uri": "https://localhost:8080/"
        },
        "id": "gafM7usJUXw7",
        "outputId": "9c3b8fdd-3928-412b-c662-126e55098c47"
      },
      "execution_count": null,
      "outputs": [
        {
          "output_type": "stream",
          "name": "stdout",
          "text": [
            "Drive already mounted at /content/drive; to attempt to forcibly remount, call drive.mount(\"/content/drive\", force_remount=True).\n"
          ]
        }
      ]
    },
    {
      "cell_type": "code",
      "source": [
        "seed = 0\n",
        "validation_indices = random.Random(x=0).sample([i for i in range(100)], 20)"
      ],
      "metadata": {
        "id": "cxYNfd3UO4U8"
      },
      "execution_count": null,
      "outputs": []
    },
    {
      "cell_type": "code",
      "source": [
        "out = pd.read_csv('/content/drive/MyDrive/regression_transformer/out.csv').reset_index(drop=True)"
      ],
      "metadata": {
        "id": "_D75_ySyKHJt"
      },
      "execution_count": null,
      "outputs": []
    },
    {
      "cell_type": "code",
      "source": [
        "train_ds = out.iloc[~out.index.isin(validation_indices)]\n",
        "test_ds = out.iloc[validation_indices]"
      ],
      "metadata": {
        "id": "1GG3ti5GQSEB"
      },
      "execution_count": null,
      "outputs": []
    },
    {
      "cell_type": "code",
      "source": [
        "train_ds.shape, test_ds.shape"
      ],
      "metadata": {
        "colab": {
          "base_uri": "https://localhost:8080/"
        },
        "id": "-cBHjUg2QR6A",
        "outputId": "3a17bacf-b1ef-49ba-871e-58deece24194"
      },
      "execution_count": null,
      "outputs": [
        {
          "output_type": "execute_result",
          "data": {
            "text/plain": [
              "((80, 6), (20, 6))"
            ]
          },
          "metadata": {},
          "execution_count": 6
        }
      ]
    },
    {
      "cell_type": "code",
      "source": [
        "batch_size = 8\n",
        "learning_rate = 2e-5\n",
        "weight_decay = 0.01\n",
        "epochs = 5\n",
        "num_model = 1\n",
        "max_length = 505\n",
        "model_base = \"/content/drive/MyDrive/regression_transformer/model_1/checkpoint-50\"\n",
        "device = \"cuda\" if torch.cuda.is_available() else \"cpu\""
      ],
      "metadata": {
        "id": "_6CYK4ktSgs7"
      },
      "execution_count": null,
      "outputs": []
    },
    {
      "cell_type": "code",
      "source": [
        "def count_tokens(row, tokenizer):\n",
        "  input_ids = len(tokenizer(row['Simple'])['input_ids'])\n",
        "  return input_ids\n",
        "\n",
        "def tokenize(examples, tokenizer):\n",
        "    return tokenizer(examples[\"text\"], truncation=True, padding='max_length')\n",
        "\n",
        "#norm 2\n",
        "def compute_metrics(eval_pred):\n",
        "    predictions, labels = eval_pred\n",
        "    rmse = mean_squared_error(labels, predictions, squared=False)\n",
        "    return {\"rmse\": rmse}\n",
        "\n",
        "def preprocess(ds, tokenizer):\n",
        "  df_new = ds[['Simple', 'AnswerSimple']]\n",
        "  df_new.columns = [\"text\",\"label\"]\n",
        "  print(df_new.head())\n",
        "  dataset = Dataset.from_pandas(df_new)\n",
        "  return dataset.map(tokenize, fn_kwargs={\"tokenizer\": tokenizer}, batched=True)"
      ],
      "metadata": {
        "id": "rg_ZObYuQR2n"
      },
      "execution_count": null,
      "outputs": []
    },
    {
      "cell_type": "code",
      "source": [
        "tokenizer = AutoTokenizer.from_pretrained(model_base, model_max_length=max_length)\n",
        "model = AutoModelForSequenceClassification.from_pretrained(model_base, num_labels = 1).to(device)"
      ],
      "metadata": {
        "id": "kKR2uNHIT1as"
      },
      "execution_count": null,
      "outputs": []
    },
    {
      "cell_type": "markdown",
      "source": [
        "## load pretrained model from checkpoint"
      ],
      "metadata": {
        "id": "eapUij6cxg3W"
      }
    },
    {
      "cell_type": "code",
      "source": [
        "train_ds['token_length'] = train_ds.apply(lambda x: count_tokens(x, tokenizer), axis = 1)"
      ],
      "metadata": {
        "colab": {
          "base_uri": "https://localhost:8080/"
        },
        "id": "QB7elTgDXpwQ",
        "outputId": "8fd9ee02-5b28-4a4f-d838-60db1cb864b2"
      },
      "execution_count": null,
      "outputs": [
        {
          "output_type": "stream",
          "name": "stderr",
          "text": [
            "<ipython-input-30-ffebb9026f69>:1: SettingWithCopyWarning: \n",
            "A value is trying to be set on a copy of a slice from a DataFrame.\n",
            "Try using .loc[row_indexer,col_indexer] = value instead\n",
            "\n",
            "See the caveats in the documentation: https://pandas.pydata.org/pandas-docs/stable/user_guide/indexing.html#returning-a-view-versus-a-copy\n",
            "  train_ds['token_length'] = train_ds.apply(lambda x: count_tokens(x, tokenizer), axis = 1)\n"
          ]
        }
      ]
    },
    {
      "cell_type": "code",
      "source": [
        "#train_ds['token_length'].describe()"
      ],
      "metadata": {
        "id": "TUMqSAx3YD-G"
      },
      "execution_count": null,
      "outputs": []
    },
    {
      "cell_type": "code",
      "source": [
        "train_ds['token_length'].value_counts()[:20].plot(kind='barh')"
      ],
      "metadata": {
        "colab": {
          "base_uri": "https://localhost:8080/",
          "height": 447
        },
        "id": "lcDCMUxOXrr6",
        "outputId": "71e72e55-7c63-404a-e527-5e0bdda42a76"
      },
      "execution_count": null,
      "outputs": [
        {
          "output_type": "execute_result",
          "data": {
            "text/plain": [
              "<Axes: ylabel='token_length'>"
            ]
          },
          "metadata": {},
          "execution_count": 33
        },
        {
          "output_type": "display_data",
          "data": {
            "text/plain": [
              "<Figure size 640x480 with 1 Axes>"
            ],
            "image/png": "[encoded data removed]"
          },
          "metadata": {}
        }
      ]
    },
    {
      "cell_type": "code",
      "source": [
        "tokenized_dataset_train, tokenized_dataset_test = preprocess(train_ds.reset_index(drop=True), tokenizer), preprocess(test_ds.reset_index(drop=True), tokenizer)"
      ],
      "metadata": {
        "colab": {
          "base_uri": "https://localhost:8080/",
          "height": 289,
          "referenced_widgets": [
            "6e32e39252fd4538b137e950de4059ad",
            "31a7d64bf09a4b55bfa1adec5c6018ae",
            "90e3e6fce1544525927133e7009e928c",
            "7f07d2cfdd2a4e89b83b474744920843",
            "436e3a9408df4a34a45932d8dd543ab7",
            "1d74364411b4479ea93f4cf3a15d7178",
            "23d0a4c595c94217a96b5f8d76d4c0d8",
            "ece01f07278441bd937196e9f46da044",
            "454ff0fdd0794de081303bbbd8aeb504",
            "58ed890711e8425ea83f94bd1ac40b56",
            "d5e1b159de654e79a74ddca782037605",
            "f502515d57af49bc84db69fe2c0a6a77",
            "cd25f7eb427b4ec596a71825a425d1a7",
            "a6535bd81f1b41f2a76b91ab7d80a0aa",
            "1cebce7664384faab905dc336b8153b7",
            "17ae06650c274503a32920ab54e937be",
            "f8a7e56c6c14489e8a007ca30c717a82",
            "b62ec6ad64f34b96a3e9594109c117c1",
            "1cbfd0dc1bc944189659e0c7059db6eb",
            "55824a4ceec2441a84cefe5e38ad1d9a",
            "2af60952b91f40ecb34f659bad120b8d",
            "66760e2a2ba34f35a28582617d07ba62"
          ]
        },
        "id": "kCY6INDgUp8F",
        "outputId": "cf790bd1-3860-412b-fe61-1e089cc6fa1b"
      },
      "execution_count": null,
      "outputs": [
        {
          "output_type": "stream",
          "name": "stdout",
          "text": [
            "                                                text     label\n",
            "0  If someone is not wearing_color, then the prob...  0.404617\n",
            "1  If someone is not wearing_color, then the prob...  0.418241\n",
            "2  If someone is not wearing_color, then the prob...  0.557703\n",
            "3  If someone is not wearing_color, then the prob...  0.557703\n",
            "4  If someone is not wearing_color, then the prob...  0.557703\n"
          ]
        },
        {
          "output_type": "display_data",
          "data": {
            "text/plain": [
              "Map:   0%|          | 0/80 [00:00<?, ? examples/s]"
            ],
            "application/vnd.jupyter.widget-view+json": {
              "version_major": 2,
              "version_minor": 0,
              "model_id": "6e32e39252fd4538b137e950de4059ad"
            }
          },
          "metadata": {}
        },
        {
          "output_type": "stream",
          "name": "stdout",
          "text": [
            "                                                text     label\n",
            "0  If someone is not wearing_color, then the prob...  0.557703\n",
            "1  If someone is not wearing_color, then the prob...  0.557703\n",
            "2  If someone is not wearing_color, then the prob...  0.404617\n",
            "3  If someone is not wearing_color, then the prob...  0.557703\n",
            "4  If someone is not wearing_color, then the prob...  0.404617\n"
          ]
        },
        {
          "output_type": "display_data",
          "data": {
            "text/plain": [
              "Map:   0%|          | 0/20 [00:00<?, ? examples/s]"
            ],
            "application/vnd.jupyter.widget-view+json": {
              "version_major": 2,
              "version_minor": 0,
              "model_id": "f502515d57af49bc84db69fe2c0a6a77"
            }
          },
          "metadata": {}
        }
      ]
    },
    {
      "cell_type": "code",
      "source": [
        "args = TrainingArguments(\n",
        "    evaluation_strategy = \"epoch\",\n",
        "    save_strategy = \"epoch\",\n",
        "    learning_rate=learning_rate,\n",
        "    num_train_epochs=epochs,\n",
        "    report_to=\"none\",\n",
        "    output_dir=f'/content/drive/MyDrive/regression_transformer/model_{num_model}',\n",
        "    weight_decay=weight_decay,\n",
        "    logging_steps = 1,\n",
        "    logging_dir=\"./log\",\n",
        "    metric_for_best_model='rmse')"
      ],
      "metadata": {
        "colab": {
          "base_uri": "https://localhost:8080/"
        },
        "id": "z0F81OFySXOk",
        "outputId": "c31b0560-e759-42f2-a9d4-4b7f512399f8"
      },
      "execution_count": null,
      "outputs": [
        {
          "output_type": "stream",
          "name": "stderr",
          "text": [
            "/usr/local/lib/python3.10/dist-packages/transformers/training_args.py:1494: FutureWarning: `evaluation_strategy` is deprecated and will be removed in version 4.46 of 🤗 Transformers. Use `eval_strategy` instead\n",
            "  warnings.warn(\n"
          ]
        }
      ]
    },
    {
      "cell_type": "code",
      "source": [
        "trainer = Trainer(\n",
        "    model,\n",
        "    args,\n",
        "    train_dataset= tokenized_dataset_train,\n",
        "    eval_dataset = tokenized_dataset_test,\n",
        "    tokenizer=tokenizer,\n",
        "    compute_metrics=compute_metrics\n",
        ")\n",
        "\n",
        "trainer.can_return_loss = True"
      ],
      "metadata": {
        "id": "HOPgthgkSXK2"
      },
      "execution_count": null,
      "outputs": []
    },
    {
      "cell_type": "code",
      "source": [
        "trainer.train()"
      ],
      "metadata": {
        "colab": {
          "base_uri": "https://localhost:8080/",
          "height": 284
        },
        "id": "dg4B960pi9aN",
        "outputId": "6e99d596-a2d4-4373-b703-bebe4c73c29a"
      },
      "execution_count": null,
      "outputs": [
        {
          "output_type": "display_data",
          "data": {
            "text/plain": [
              "<IPython.core.display.HTML object>"
            ],
            "text/html": [
              "\n",
              "    <div>\n",
              "      \n",
              "      <progress value='50' max='50' style='width:300px; height:20px; vertical-align: middle;'></progress>\n",
              "      [50/50 02:25, Epoch 5/5]\n",
              "    </div>\n",
              "    <table border=\"1\" class=\"dataframe\">\n",
              "  <thead>\n",
              " <tr style=\"text-align: left;\">\n",
              "      <th>Epoch</th>\n",
              "      <th>Training Loss</th>\n",
              "      <th>Validation Loss</th>\n",
              "      <th>Rmse</th>\n",
              "    </tr>\n",
              "  </thead>\n",
              "  <tbody>\n",
              "    <tr>\n",
              "      <td>1</td>\n",
              "      <td>0.004100</td>\n",
              "      <td>0.013554</td>\n",
              "      <td>0.116423</td>\n",
              "    </tr>\n",
              "    <tr>\n",
              "      <td>2</td>\n",
              "      <td>0.019300</td>\n",
              "      <td>0.010641</td>\n",
              "      <td>0.103156</td>\n",
              "    </tr>\n",
              "    <tr>\n",
              "      <td>3</td>\n",
              "      <td>0.016700</td>\n",
              "      <td>0.010625</td>\n",
              "      <td>0.103077</td>\n",
              "    </tr>\n",
              "    <tr>\n",
              "      <td>4</td>\n",
              "      <td>0.015100</td>\n",
              "      <td>0.009701</td>\n",
              "      <td>0.098492</td>\n",
              "    </tr>\n",
              "    <tr>\n",
              "      <td>5</td>\n",
              "      <td>0.009700</td>\n",
              "      <td>0.006274</td>\n",
              "      <td>0.079211</td>\n",
              "    </tr>\n",
              "  </tbody>\n",
              "</table><p>"
            ]
          },
          "metadata": {}
        },
        {
          "output_type": "execute_result",
          "data": {
            "text/plain": [
              "TrainOutput(global_step=50, training_loss=0.017935664830729364, metrics={'train_runtime': 146.5834, 'train_samples_per_second': 2.729, 'train_steps_per_second': 0.341, 'total_flos': 103804601532000.0, 'train_loss': 0.017935664830729364, 'epoch': 5.0})"
            ]
          },
          "metadata": {},
          "execution_count": 21
        }
      ]
    },
    {
      "cell_type": "code",
      "source": [
        "train_ds.AnswerSimple.std()"
      ],
      "metadata": {
        "colab": {
          "base_uri": "https://localhost:8080/"
        },
        "id": "DJBTV3eM0FnQ",
        "outputId": "3158d045-fb6a-4acf-94ff-75fabaa78f75"
      },
      "execution_count": null,
      "outputs": [
        {
          "output_type": "execute_result",
          "data": {
            "text/plain": [
              "0.07468423263306183"
            ]
          },
          "metadata": {},
          "execution_count": 47
        }
      ]
    },
    {
      "cell_type": "markdown",
      "source": [
        "# Testing the model"
      ],
      "metadata": {
        "id": "bn_r9AKQWAx_"
      }
    },
    {
      "cell_type": "code",
      "source": [
        "test_ds['Simple'].iloc[0]"
      ],
      "metadata": {
        "colab": {
          "base_uri": "https://localhost:8080/",
          "height": 191
        },
        "id": "RlB0AwGeoNY9",
        "outputId": "258df2f2-0e76-47b5-c6a6-c278a2b02aa4"
      },
      "execution_count": null,
      "outputs": [
        {
          "output_type": "execute_result",
          "data": {
            "text/plain": [
              "'If someone is not wearing_color, then the probability that they are not blue is 0.44229670469666166\\nIf someone is not blue and not wearing_color, then the probability that they are not red is 0.5953831213930163\\nIf someone is blue and not wearing_color, then the probability that they are red is 0.40461687860698375\\nIf someone is wearing_color and not blue, then the probability that they are not red is 0.5953831213930163\\nIf someone is blue and wearing_color, then the probability that they are not red is 0.5953831213930163\\nIf someone is not wearing_color, then the probability that they are not white is 0.44229670469666166\\nIf someone is wearing_color, then the probability that they are white is 0.5577032953033384\\nThere is a probability of 0.36186177420161986 that Neimad is wearing_color today.\\nIf someone is blue, then the probability that they are wearing_color is 0.36186177420161986\\nThere is a probability of 0.36186177420161986 that Neimad is wearing_color today.\\nThere is a probability of 0.5577032953033384 that Neimad is blue today.\\nWhat is the probability that Neimad is white given he is wearing_color ?'"
            ],
            "application/vnd.google.colaboratory.intrinsic+json": {
              "type": "string"
            }
          },
          "metadata": {},
          "execution_count": 37
        }
      ]
    },
    {
      "cell_type": "code",
      "source": [
        "test_ds['AnswerSimple'].iloc[0], test_ds['AnswerSimple'].iloc[1]"
      ],
      "metadata": {
        "colab": {
          "base_uri": "https://localhost:8080/"
        },
        "id": "tUbkeQinon65",
        "outputId": "794434b1-1e6b-4ebd-d617-40677344d1b2"
      },
      "execution_count": null,
      "outputs": [
        {
          "output_type": "execute_result",
          "data": {
            "text/plain": [
              "(0.5577032953033384, 0.5577032953033384)"
            ]
          },
          "metadata": {},
          "execution_count": 41
        }
      ]
    },
    {
      "cell_type": "code",
      "source": [
        "phrase = test_ds['Simple'].iloc[1]\n",
        "tokenized_sentence = tokenizer(phrase, return_tensors='pt').to(\"cpu\")"
      ],
      "metadata": {
        "id": "KnmjmXhLWC1S"
      },
      "execution_count": null,
      "outputs": []
    },
    {
      "cell_type": "code",
      "source": [
        "model.to(\"cpu\")(**tokenized_sentence).logits[0][0].item()"
      ],
      "metadata": {
        "colab": {
          "base_uri": "https://localhost:8080/"
        },
        "id": "qxg5fWLEWR2L",
        "outputId": "3076874f-98ac-4c6d-c402-b351a9266133"
      },
      "execution_count": null,
      "outputs": [
        {
          "output_type": "execute_result",
          "data": {
            "text/plain": [
              "0.5012671947479248"
            ]
          },
          "metadata": {},
          "execution_count": 43
        }
      ]
    },
    {
      "cell_type": "code",
      "source": [
        "%%capture\n",
        "!pip install tasknet"
      ],
      "metadata": {
        "id": "TwsXw6MV02wR"
      },
      "execution_count": null,
      "outputs": []
    },
    {
      "cell_type": "code",
      "source": [
        "import tasknet as tn; from datasets import load_dataset\n",
        "import datasets\n",
        "\n",
        "dataset=datasets.DatasetDict(dict(train=Dataset.from_pandas(train_ds),\n",
        "     test=Dataset.from_pandas(test_ds),\n",
        "     validation=Dataset.from_pandas(test_ds)))\n",
        "\n",
        "ours = tn.Classification(\n",
        "    dataset,\n",
        "    s1=\"Simple\", y=\"AnswerSimple\")\n",
        "\n",
        "cladder = tn.AutoTask(\"cladder\", nrows=5000)\n",
        "\n",
        "class hparams:\n",
        "  model_name = 'sileod/deberta-v3-base-tasksource-nli' # better performance for most tasks\n",
        "  learning_rate = 2e-5\n",
        "\n",
        "for additional in [[],[ours]]:\n",
        "  model, trainer = tn.Model_Trainer([cladder]+additional,hparams)\n",
        "  trainer.train(),\n",
        "  res= trainer.evaluate()"
      ],
      "metadata": {
        "colab": {
          "base_uri": "https://localhost:8080/",
          "height": 480,
          "referenced_widgets": [
            "2806c16174b34841a3f09b5a89021cb6",
            "031ee759032f4f96a4bc32fd16e377f3",
            "95313d22301240db90a274f0ce68d643",
            "59aedf6280e6454ca5ad4de5c416d38a",
            "9503d85bd1be4c159f63522f292b4b7f",
            "0dc2efb2ba0544d0a1c6edf31a174aba",
            "344e851521a14e0c8a4552d38dd28a4e",
            "753c2427663a4598a8d2cbf1016d0127",
            "390ae863c7b147a2a26cb2ada531b443",
            "a2c9ea5e7cdc4faabd9abbee87072f50",
            "731a49dec9bf4a8b950a5d3a0defcb23"
          ]
        },
        "id": "aPpR3ji20mQj",
        "outputId": "db05dffa-0c2b-4363-c721-43bff4414739"
      },
      "execution_count": null,
      "outputs": [
        {
          "output_type": "display_data",
          "data": {
            "text/plain": [
              "<IPython.core.display.HTML object>"
            ],
            "text/html": [
              "\n",
              "    <div>\n",
              "      \n",
              "      <progress value='20' max='30' style='width:300px; height:20px; vertical-align: middle;'></progress>\n",
              "      [20/30 09:37 < 05:20, 0.03 it/s, Epoch 1.90/3]\n",
              "    </div>\n",
              "    <table border=\"1\" class=\"dataframe\">\n",
              "  <thead>\n",
              " <tr style=\"text-align: left;\">\n",
              "      <th>Epoch</th>\n",
              "      <th>Training Loss</th>\n",
              "      <th>Validation Loss</th>\n",
              "      <th>Pearson</th>\n",
              "      <th>Spearmanr</th>\n",
              "      <th>Name</th>\n",
              "      <th>Size</th>\n",
              "      <th>Index</th>\n",
              "    </tr>\n",
              "  </thead>\n",
              "  <tbody>\n",
              "    <tr>\n",
              "      <td>1</td>\n",
              "      <td>0.074600</td>\n",
              "      <td>0.009472</td>\n",
              "      <td>-0.137336</td>\n",
              "      <td>-0.200440</td>\n",
              "      <td></td>\n",
              "      <td>20</td>\n",
              "      <td>0</td>\n",
              "    </tr>\n",
              "  </tbody>\n",
              "</table><p>"
            ]
          },
          "metadata": {}
        },
        {
          "output_type": "display_data",
          "data": {
            "text/plain": [
              "Downloading builder script:   0%|          | 0.00/5.75k [00:00<?, ?B/s]"
            ],
            "application/vnd.jupyter.widget-view+json": {
              "version_major": 2,
              "version_minor": 0,
              "model_id": "2806c16174b34841a3f09b5a89021cb6"
            }
          },
          "metadata": {}
        },
        {
          "output_type": "stream",
          "name": "stderr",
          "text": [
            "Trainer is attempting to log a value of \"\" of type <class 'str'> for key \"eval/name\" as a scalar. This invocation of Tensorboard's writer.add_scalar() is incorrect so we dropped this attribute.\n"
          ]
        },
        {
          "output_type": "error",
          "ename": "KeyboardInterrupt",
          "evalue": "",
          "traceback": [
            "\u001b[0;31m---------------------------------------------------------------------------\u001b[0m",
            "\u001b[0;31mKeyboardInterrupt\u001b[0m                         Traceback (most recent call last)",
            "\u001b[0;32m<ipython-input-56-649cb485c373>\u001b[0m in \u001b[0;36m<cell line: 17>\u001b[0;34m()\u001b[0m\n\u001b[1;32m     15\u001b[0m \u001b[0;34m\u001b[0m\u001b[0m\n\u001b[1;32m     16\u001b[0m \u001b[0mmodel\u001b[0m\u001b[0;34m,\u001b[0m \u001b[0mtrainer\u001b[0m \u001b[0;34m=\u001b[0m \u001b[0mtn\u001b[0m\u001b[0;34m.\u001b[0m\u001b[0mModel_Trainer\u001b[0m\u001b[0;34m(\u001b[0m\u001b[0;34m[\u001b[0m\u001b[0mours\u001b[0m\u001b[0;34m]\u001b[0m\u001b[0;34m,\u001b[0m\u001b[0mhparams\u001b[0m\u001b[0;34m)\u001b[0m\u001b[0;34m\u001b[0m\u001b[0;34m\u001b[0m\u001b[0m\n\u001b[0;32m---> 17\u001b[0;31m \u001b[0mtrainer\u001b[0m\u001b[0;34m.\u001b[0m\u001b[0mtrain\u001b[0m\u001b[0;34m(\u001b[0m\u001b[0;34m)\u001b[0m\u001b[0;34m,\u001b[0m \u001b[0mtrainer\u001b[0m\u001b[0;34m.\u001b[0m\u001b[0mevaluate\u001b[0m\u001b[0;34m(\u001b[0m\u001b[0;34m)\u001b[0m\u001b[0;34m\u001b[0m\u001b[0;34m\u001b[0m\u001b[0m\n\u001b[0m",
            "\u001b[0;32m/usr/local/lib/python3.10/dist-packages/transformers/trainer.py\u001b[0m in \u001b[0;36mtrain\u001b[0;34m(self, resume_from_checkpoint, trial, ignore_keys_for_eval, **kwargs)\u001b[0m\n\u001b[1;32m   1930\u001b[0m                 \u001b[0mhf_hub_utils\u001b[0m\u001b[0;34m.\u001b[0m\u001b[0menable_progress_bars\u001b[0m\u001b[0;34m(\u001b[0m\u001b[0;34m)\u001b[0m\u001b[0;34m\u001b[0m\u001b[0;34m\u001b[0m\u001b[0m\n\u001b[1;32m   1931\u001b[0m         \u001b[0;32melse\u001b[0m\u001b[0;34m:\u001b[0m\u001b[0;34m\u001b[0m\u001b[0;34m\u001b[0m\u001b[0m\n\u001b[0;32m-> 1932\u001b[0;31m             return inner_training_loop(\n\u001b[0m\u001b[1;32m   1933\u001b[0m                 \u001b[0margs\u001b[0m\u001b[0;34m=\u001b[0m\u001b[0margs\u001b[0m\u001b[0;34m,\u001b[0m\u001b[0;34m\u001b[0m\u001b[0;34m\u001b[0m\u001b[0m\n\u001b[1;32m   1934\u001b[0m                 \u001b[0mresume_from_checkpoint\u001b[0m\u001b[0;34m=\u001b[0m\u001b[0mresume_from_checkpoint\u001b[0m\u001b[0;34m,\u001b[0m\u001b[0;34m\u001b[0m\u001b[0;34m\u001b[0m\u001b[0m\n",
            "\u001b[0;32m/usr/local/lib/python3.10/dist-packages/transformers/trainer.py\u001b[0m in \u001b[0;36m_inner_training_loop\u001b[0;34m(self, batch_size, args, resume_from_checkpoint, trial, ignore_keys_for_eval)\u001b[0m\n\u001b[1;32m   2266\u001b[0m \u001b[0;34m\u001b[0m\u001b[0m\n\u001b[1;32m   2267\u001b[0m                 \u001b[0;32mwith\u001b[0m \u001b[0mself\u001b[0m\u001b[0;34m.\u001b[0m\u001b[0maccelerator\u001b[0m\u001b[0;34m.\u001b[0m\u001b[0maccumulate\u001b[0m\u001b[0;34m(\u001b[0m\u001b[0mmodel\u001b[0m\u001b[0;34m)\u001b[0m\u001b[0;34m:\u001b[0m\u001b[0;34m\u001b[0m\u001b[0;34m\u001b[0m\u001b[0m\n\u001b[0;32m-> 2268\u001b[0;31m                     \u001b[0mtr_loss_step\u001b[0m \u001b[0;34m=\u001b[0m \u001b[0mself\u001b[0m\u001b[0;34m.\u001b[0m\u001b[0mtraining_step\u001b[0m\u001b[0;34m(\u001b[0m\u001b[0mmodel\u001b[0m\u001b[0;34m,\u001b[0m \u001b[0minputs\u001b[0m\u001b[0;34m)\u001b[0m\u001b[0;34m\u001b[0m\u001b[0;34m\u001b[0m\u001b[0m\n\u001b[0m\u001b[1;32m   2269\u001b[0m \u001b[0;34m\u001b[0m\u001b[0m\n\u001b[1;32m   2270\u001b[0m                 if (\n",
            "\u001b[0;32m/usr/local/lib/python3.10/dist-packages/transformers/trainer.py\u001b[0m in \u001b[0;36mtraining_step\u001b[0;34m(***failed resolving arguments***)\u001b[0m\n\u001b[1;32m   3322\u001b[0m                 \u001b[0mscaled_loss\u001b[0m\u001b[0;34m.\u001b[0m\u001b[0mbackward\u001b[0m\u001b[0;34m(\u001b[0m\u001b[0;34m)\u001b[0m\u001b[0;34m\u001b[0m\u001b[0;34m\u001b[0m\u001b[0m\n\u001b[1;32m   3323\u001b[0m         \u001b[0;32melse\u001b[0m\u001b[0;34m:\u001b[0m\u001b[0;34m\u001b[0m\u001b[0;34m\u001b[0m\u001b[0m\n\u001b[0;32m-> 3324\u001b[0;31m             \u001b[0mself\u001b[0m\u001b[0;34m.\u001b[0m\u001b[0maccelerator\u001b[0m\u001b[0;34m.\u001b[0m\u001b[0mbackward\u001b[0m\u001b[0;34m(\u001b[0m\u001b[0mloss\u001b[0m\u001b[0;34m,\u001b[0m \u001b[0;34m**\u001b[0m\u001b[0mkwargs\u001b[0m\u001b[0;34m)\u001b[0m\u001b[0;34m\u001b[0m\u001b[0;34m\u001b[0m\u001b[0m\n\u001b[0m\u001b[1;32m   3325\u001b[0m \u001b[0;34m\u001b[0m\u001b[0m\n\u001b[1;32m   3326\u001b[0m         \u001b[0;32mreturn\u001b[0m \u001b[0mloss\u001b[0m\u001b[0;34m.\u001b[0m\u001b[0mdetach\u001b[0m\u001b[0;34m(\u001b[0m\u001b[0;34m)\u001b[0m \u001b[0;34m/\u001b[0m \u001b[0mself\u001b[0m\u001b[0;34m.\u001b[0m\u001b[0margs\u001b[0m\u001b[0;34m.\u001b[0m\u001b[0mgradient_accumulation_steps\u001b[0m\u001b[0;34m\u001b[0m\u001b[0;34m\u001b[0m\u001b[0m\n",
            "\u001b[0;32m/usr/local/lib/python3.10/dist-packages/accelerate/accelerator.py\u001b[0m in \u001b[0;36mbackward\u001b[0;34m(self, loss, **kwargs)\u001b[0m\n\u001b[1;32m   2149\u001b[0m             \u001b[0mself\u001b[0m\u001b[0;34m.\u001b[0m\u001b[0mlomo_backward\u001b[0m\u001b[0;34m(\u001b[0m\u001b[0mloss\u001b[0m\u001b[0;34m,\u001b[0m \u001b[0mlearning_rate\u001b[0m\u001b[0;34m)\u001b[0m\u001b[0;34m\u001b[0m\u001b[0;34m\u001b[0m\u001b[0m\n\u001b[1;32m   2150\u001b[0m         \u001b[0;32melse\u001b[0m\u001b[0;34m:\u001b[0m\u001b[0;34m\u001b[0m\u001b[0;34m\u001b[0m\u001b[0m\n\u001b[0;32m-> 2151\u001b[0;31m             \u001b[0mloss\u001b[0m\u001b[0;34m.\u001b[0m\u001b[0mbackward\u001b[0m\u001b[0;34m(\u001b[0m\u001b[0;34m**\u001b[0m\u001b[0mkwargs\u001b[0m\u001b[0;34m)\u001b[0m\u001b[0;34m\u001b[0m\u001b[0;34m\u001b[0m\u001b[0m\n\u001b[0m\u001b[1;32m   2152\u001b[0m \u001b[0;34m\u001b[0m\u001b[0m\n\u001b[1;32m   2153\u001b[0m     \u001b[0;32mdef\u001b[0m \u001b[0mset_trigger\u001b[0m\u001b[0;34m(\u001b[0m\u001b[0mself\u001b[0m\u001b[0;34m)\u001b[0m\u001b[0;34m:\u001b[0m\u001b[0;34m\u001b[0m\u001b[0;34m\u001b[0m\u001b[0m\n",
            "\u001b[0;32m/usr/local/lib/python3.10/dist-packages/torch/_tensor.py\u001b[0m in \u001b[0;36mbackward\u001b[0;34m(self, gradient, retain_graph, create_graph, inputs)\u001b[0m\n\u001b[1;32m    523\u001b[0m                 \u001b[0minputs\u001b[0m\u001b[0;34m=\u001b[0m\u001b[0minputs\u001b[0m\u001b[0;34m,\u001b[0m\u001b[0;34m\u001b[0m\u001b[0;34m\u001b[0m\u001b[0m\n\u001b[1;32m    524\u001b[0m             )\n\u001b[0;32m--> 525\u001b[0;31m         torch.autograd.backward(\n\u001b[0m\u001b[1;32m    526\u001b[0m             \u001b[0mself\u001b[0m\u001b[0;34m,\u001b[0m \u001b[0mgradient\u001b[0m\u001b[0;34m,\u001b[0m \u001b[0mretain_graph\u001b[0m\u001b[0;34m,\u001b[0m \u001b[0mcreate_graph\u001b[0m\u001b[0;34m,\u001b[0m \u001b[0minputs\u001b[0m\u001b[0;34m=\u001b[0m\u001b[0minputs\u001b[0m\u001b[0;34m\u001b[0m\u001b[0;34m\u001b[0m\u001b[0m\n\u001b[1;32m    527\u001b[0m         )\n",
            "\u001b[0;32m/usr/local/lib/python3.10/dist-packages/torch/autograd/__init__.py\u001b[0m in \u001b[0;36mbackward\u001b[0;34m(tensors, grad_tensors, retain_graph, create_graph, grad_variables, inputs)\u001b[0m\n\u001b[1;32m    265\u001b[0m     \u001b[0;31m# some Python versions print out the first line of a multi-line function\u001b[0m\u001b[0;34m\u001b[0m\u001b[0;34m\u001b[0m\u001b[0m\n\u001b[1;32m    266\u001b[0m     \u001b[0;31m# calls in the traceback and some print out the last line\u001b[0m\u001b[0;34m\u001b[0m\u001b[0;34m\u001b[0m\u001b[0m\n\u001b[0;32m--> 267\u001b[0;31m     _engine_run_backward(\n\u001b[0m\u001b[1;32m    268\u001b[0m         \u001b[0mtensors\u001b[0m\u001b[0;34m,\u001b[0m\u001b[0;34m\u001b[0m\u001b[0;34m\u001b[0m\u001b[0m\n\u001b[1;32m    269\u001b[0m         \u001b[0mgrad_tensors_\u001b[0m\u001b[0;34m,\u001b[0m\u001b[0;34m\u001b[0m\u001b[0;34m\u001b[0m\u001b[0m\n",
            "\u001b[0;32m/usr/local/lib/python3.10/dist-packages/torch/autograd/graph.py\u001b[0m in \u001b[0;36m_engine_run_backward\u001b[0;34m(t_outputs, *args, **kwargs)\u001b[0m\n\u001b[1;32m    742\u001b[0m         \u001b[0munregister_hooks\u001b[0m \u001b[0;34m=\u001b[0m \u001b[0m_register_logging_hooks_on_whole_graph\u001b[0m\u001b[0;34m(\u001b[0m\u001b[0mt_outputs\u001b[0m\u001b[0;34m)\u001b[0m\u001b[0;34m\u001b[0m\u001b[0;34m\u001b[0m\u001b[0m\n\u001b[1;32m    743\u001b[0m     \u001b[0;32mtry\u001b[0m\u001b[0;34m:\u001b[0m\u001b[0;34m\u001b[0m\u001b[0;34m\u001b[0m\u001b[0m\n\u001b[0;32m--> 744\u001b[0;31m         return Variable._execution_engine.run_backward(  # Calls into the C++ engine to run the backward pass\n\u001b[0m\u001b[1;32m    745\u001b[0m             \u001b[0mt_outputs\u001b[0m\u001b[0;34m,\u001b[0m \u001b[0;34m*\u001b[0m\u001b[0margs\u001b[0m\u001b[0;34m,\u001b[0m \u001b[0;34m**\u001b[0m\u001b[0mkwargs\u001b[0m\u001b[0;34m\u001b[0m\u001b[0;34m\u001b[0m\u001b[0m\n\u001b[1;32m    746\u001b[0m         )  # Calls into the C++ engine to run the backward pass\n",
            "\u001b[0;32m/usr/local/lib/python3.10/dist-packages/torch/autograd/function.py\u001b[0m in \u001b[0;36mapply\u001b[0;34m(self, *args)\u001b[0m\n\u001b[1;32m    284\u001b[0m     \"\"\"\n\u001b[1;32m    285\u001b[0m \u001b[0;34m\u001b[0m\u001b[0m\n\u001b[0;32m--> 286\u001b[0;31m     \u001b[0;32mdef\u001b[0m \u001b[0mapply\u001b[0m\u001b[0;34m(\u001b[0m\u001b[0mself\u001b[0m\u001b[0;34m,\u001b[0m \u001b[0;34m*\u001b[0m\u001b[0margs\u001b[0m\u001b[0;34m)\u001b[0m\u001b[0;34m:\u001b[0m\u001b[0;34m\u001b[0m\u001b[0;34m\u001b[0m\u001b[0m\n\u001b[0m\u001b[1;32m    287\u001b[0m         r\"\"\"\n\u001b[1;32m    288\u001b[0m         \u001b[0mApply\u001b[0m \u001b[0mmethod\u001b[0m \u001b[0mused\u001b[0m \u001b[0mwhen\u001b[0m \u001b[0mexecuting\u001b[0m \u001b[0mthis\u001b[0m \u001b[0mNode\u001b[0m \u001b[0mduring\u001b[0m \u001b[0mthe\u001b[0m \u001b[0mbackward\u001b[0m\u001b[0;34m\u001b[0m\u001b[0;34m\u001b[0m\u001b[0m\n",
            "\u001b[0;31mKeyboardInterrupt\u001b[0m: "
          ]
        }
      ]
    },
    {
      "cell_type": "code",
      "source": [
        "train_ds"
      ],
      "metadata": {
        "colab": {
          "base_uri": "https://localhost:8080/",
          "height": 944
        },
        "id": "TjMNi6Hj044N",
        "outputId": "110a1812-6917-4ac5-d08d-4105f64851ec"
      },
      "execution_count": null,
      "outputs": [
        {
          "output_type": "execute_result",
          "data": {
            "text/plain": [
              "                                               Simple  AnswerSimple  \\\n",
              "0   If someone is not wearing_color, then the prob...      0.404617   \n",
              "1   If someone is not wearing_color, then the prob...      0.418241   \n",
              "2   If someone is not wearing_color, then the prob...      0.557703   \n",
              "3   If someone is not wearing_color, then the prob...      0.557703   \n",
              "4   If someone is not wearing_color, then the prob...      0.557703   \n",
              "..                                                ...           ...   \n",
              "93  If someone is wearing_color, then the probabil...      0.557703   \n",
              "94  If someone is not wearing_color, then the prob...      0.418241   \n",
              "95  If someone is not wearing_color, then the prob...      0.557703   \n",
              "98  If someone is not wearing_color, then the prob...      0.404617   \n",
              "99  If someone is not wearing_color, then the prob...      0.404617   \n",
              "\n",
              "                                                   Do  AnswerDo  \\\n",
              "0   If someone is not wearing_color, then the prob...  0.404617   \n",
              "1   If someone is not wearing_color, then the prob...  0.418241   \n",
              "2   If someone is not wearing_color, then the prob...  0.557703   \n",
              "3   If someone is not wearing_color, then the prob...  0.557703   \n",
              "4   If someone is not wearing_color, then the prob...  0.557703   \n",
              "..                                                ...       ...   \n",
              "93  If someone is wearing_color, then the probabil...  0.557703   \n",
              "94  If someone is not wearing_color, then the prob...  0.418241   \n",
              "95  If someone is not wearing_color, then the prob...  0.557703   \n",
              "98  If someone is not wearing_color, then the prob...  0.404617   \n",
              "99  If someone is not wearing_color, then the prob...  0.404617   \n",
              "\n",
              "                                                Group  AnswerGroup  \\\n",
              "0   If someone is not wearing_color, then the prob...     0.874343   \n",
              "1   If someone is not wearing_color, then the prob...     0.933363   \n",
              "2   If someone is not wearing_color, then the prob...     0.557703   \n",
              "3   If someone is not wearing_color, then the prob...     1.000000   \n",
              "4   If someone is not wearing_color, then the prob...     0.000000   \n",
              "..                                                ...          ...   \n",
              "93  If someone is wearing_color, then the probabil...     0.173464   \n",
              "94  If someone is not wearing_color, then the prob...     0.030599   \n",
              "95  If someone is not wearing_color, then the prob...     0.000000   \n",
              "98  If someone is not wearing_color, then the prob...     0.066242   \n",
              "99  If someone is not wearing_color, then the prob...     1.000000   \n",
              "\n",
              "    token_length  \n",
              "0            318  \n",
              "1            441  \n",
              "2            316  \n",
              "3            313  \n",
              "4            310  \n",
              "..           ...  \n",
              "93           307  \n",
              "94           448  \n",
              "95           311  \n",
              "98           308  \n",
              "99           306  \n",
              "\n",
              "[80 rows x 7 columns]"
            ],
            "text/html": [
              "\n",
              "  <div id=\"df-7a8385df-e298-4013-b257-04a3bedddf3e\" class=\"colab-df-container\">\n",
              "    <div>\n",
              "<style scoped>\n",
              "    .dataframe tbody tr th:only-of-type {\n",
              "        vertical-align: middle;\n",
              "    }\n",
              "\n",
              "    .dataframe tbody tr th {\n",
              "        vertical-align: top;\n",
              "    }\n",
              "\n",
              "    .dataframe thead th {\n",
              "        text-align: right;\n",
              "    }\n",
              "</style>\n",
              "<table border=\"1\" class=\"dataframe\">\n",
              "  <thead>\n",
              "    <tr style=\"text-align: right;\">\n",
              "      <th></th>\n",
              "      <th>Simple</th>\n",
              "      <th>AnswerSimple</th>\n",
              "      <th>Do</th>\n",
              "      <th>AnswerDo</th>\n",
              "      <th>Group</th>\n",
              "      <th>AnswerGroup</th>\n",
              "      <th>token_length</th>\n",
              "    </tr>\n",
              "  </thead>\n",
              "  <tbody>\n",
              "    <tr>\n",
              "      <th>0</th>\n",
              "      <td>If someone is not wearing_color, then the prob...</td>\n",
              "      <td>0.404617</td>\n",
              "      <td>If someone is not wearing_color, then the prob...</td>\n",
              "      <td>0.404617</td>\n",
              "      <td>If someone is not wearing_color, then the prob...</td>\n",
              "      <td>0.874343</td>\n",
              "      <td>318</td>\n",
              "    </tr>\n",
              "    <tr>\n",
              "      <th>1</th>\n",
              "      <td>If someone is not wearing_color, then the prob...</td>\n",
              "      <td>0.418241</td>\n",
              "      <td>If someone is not wearing_color, then the prob...</td>\n",
              "      <td>0.418241</td>\n",
              "      <td>If someone is not wearing_color, then the prob...</td>\n",
              "      <td>0.933363</td>\n",
              "      <td>441</td>\n",
              "    </tr>\n",
              "    <tr>\n",
              "      <th>2</th>\n",
              "      <td>If someone is not wearing_color, then the prob...</td>\n",
              "      <td>0.557703</td>\n",
              "      <td>If someone is not wearing_color, then the prob...</td>\n",
              "      <td>0.557703</td>\n",
              "      <td>If someone is not wearing_color, then the prob...</td>\n",
              "      <td>0.557703</td>\n",
              "      <td>316</td>\n",
              "    </tr>\n",
              "    <tr>\n",
              "      <th>3</th>\n",
              "      <td>If someone is not wearing_color, then the prob...</td>\n",
              "      <td>0.557703</td>\n",
              "      <td>If someone is not wearing_color, then the prob...</td>\n",
              "      <td>0.557703</td>\n",
              "      <td>If someone is not wearing_color, then the prob...</td>\n",
              "      <td>1.000000</td>\n",
              "      <td>313</td>\n",
              "    </tr>\n",
              "    <tr>\n",
              "      <th>4</th>\n",
              "      <td>If someone is not wearing_color, then the prob...</td>\n",
              "      <td>0.557703</td>\n",
              "      <td>If someone is not wearing_color, then the prob...</td>\n",
              "      <td>0.557703</td>\n",
              "      <td>If someone is not wearing_color, then the prob...</td>\n",
              "      <td>0.000000</td>\n",
              "      <td>310</td>\n",
              "    </tr>\n",
              "    <tr>\n",
              "      <th>...</th>\n",
              "      <td>...</td>\n",
              "      <td>...</td>\n",
              "      <td>...</td>\n",
              "      <td>...</td>\n",
              "      <td>...</td>\n",
              "      <td>...</td>\n",
              "      <td>...</td>\n",
              "    </tr>\n",
              "    <tr>\n",
              "      <th>93</th>\n",
              "      <td>If someone is wearing_color, then the probabil...</td>\n",
              "      <td>0.557703</td>\n",
              "      <td>If someone is wearing_color, then the probabil...</td>\n",
              "      <td>0.557703</td>\n",
              "      <td>If someone is wearing_color, then the probabil...</td>\n",
              "      <td>0.173464</td>\n",
              "      <td>307</td>\n",
              "    </tr>\n",
              "    <tr>\n",
              "      <th>94</th>\n",
              "      <td>If someone is not wearing_color, then the prob...</td>\n",
              "      <td>0.418241</td>\n",
              "      <td>If someone is not wearing_color, then the prob...</td>\n",
              "      <td>0.418241</td>\n",
              "      <td>If someone is not wearing_color, then the prob...</td>\n",
              "      <td>0.030599</td>\n",
              "      <td>448</td>\n",
              "    </tr>\n",
              "    <tr>\n",
              "      <th>95</th>\n",
              "      <td>If someone is not wearing_color, then the prob...</td>\n",
              "      <td>0.557703</td>\n",
              "      <td>If someone is not wearing_color, then the prob...</td>\n",
              "      <td>0.557703</td>\n",
              "      <td>If someone is not wearing_color, then the prob...</td>\n",
              "      <td>0.000000</td>\n",
              "      <td>311</td>\n",
              "    </tr>\n",
              "    <tr>\n",
              "      <th>98</th>\n",
              "      <td>If someone is not wearing_color, then the prob...</td>\n",
              "      <td>0.404617</td>\n",
              "      <td>If someone is not wearing_color, then the prob...</td>\n",
              "      <td>0.404617</td>\n",
              "      <td>If someone is not wearing_color, then the prob...</td>\n",
              "      <td>0.066242</td>\n",
              "      <td>308</td>\n",
              "    </tr>\n",
              "    <tr>\n",
              "      <th>99</th>\n",
              "      <td>If someone is not wearing_color, then the prob...</td>\n",
              "      <td>0.404617</td>\n",
              "      <td>If someone is not wearing_color, then the prob...</td>\n",
              "      <td>0.404617</td>\n",
              "      <td>If someone is not wearing_color, then the prob...</td>\n",
              "      <td>1.000000</td>\n",
              "      <td>306</td>\n",
              "    </tr>\n",
              "  </tbody>\n",
              "</table>\n",
              "<p>80 rows × 7 columns</p>\n",
              "</div>\n",
              "    <div class=\"colab-df-buttons\">\n",
              "\n",
              "  <div class=\"colab-df-container\">\n",
              "    <button class=\"colab-df-convert\" onclick=\"convertToInteractive('df-7a8385df-e298-4013-b257-04a3bedddf3e')\"\n",
              "            title=\"Convert this dataframe to an interactive table.\"\n",
              "            style=\"display:none;\">\n",
              "\n",
              "  <svg xmlns=\"http://www.w3.org/2000/svg\" height=\"24px\" viewBox=\"0 -960 960 960\">\n",
              "    <path d=\"M120-120v-720h720v720H120Zm60-500h600v-160H180v160Zm220 220h160v-160H400v160Zm0 220h160v-160H400v160ZM180-400h160v-160H180v160Zm440 0h160v-160H620v160ZM180-180h160v-160H180v160Zm440 0h160v-160H620v160Z\"/>\n",
              "  </svg>\n",
              "    </button>\n",
              "\n",
              "  <style>\n",
              "    .colab-df-container {\n",
              "      display:flex;\n",
              "      gap: 12px;\n",
              "    }\n",
              "\n",
              "    .colab-df-convert {\n",
              "      background-color: #E8F0FE;\n",
              "      border: none;\n",
              "      border-radius: 50%;\n",
              "      cursor: pointer;\n",
              "      display: none;\n",
              "      fill: #1967D2;\n",
              "      height: 32px;\n",
              "      padding: 0 0 0 0;\n",
              "      width: 32px;\n",
              "    }\n",
              "\n",
              "    .colab-df-convert:hover {\n",
              "      background-color: #E2EBFA;\n",
              "      box-shadow: 0px 1px 2px rgba(60, 64, 67, 0.3), 0px 1px 3px 1px rgba(60, 64, 67, 0.15);\n",
              "      fill: #174EA6;\n",
              "    }\n",
              "\n",
              "    .colab-df-buttons div {\n",
              "      margin-bottom: 4px;\n",
              "    }\n",
              "\n",
              "    [theme=dark] .colab-df-convert {\n",
              "      background-color: #3B4455;\n",
              "      fill: #D2E3FC;\n",
              "    }\n",
              "\n",
              "    [theme=dark] .colab-df-convert:hover {\n",
              "      background-color: #434B5C;\n",
              "      box-shadow: 0px 1px 3px 1px rgba(0, 0, 0, 0.15);\n",
              "      filter: drop-shadow(0px 1px 2px rgba(0, 0, 0, 0.3));\n",
              "      fill: #FFFFFF;\n",
              "    }\n",
              "  </style>\n",
              "\n",
              "    <script>\n",
              "      const buttonEl =\n",
              "        document.querySelector('#df-7a8385df-e298-4013-b257-04a3bedddf3e button.colab-df-convert');\n",
              "      buttonEl.style.display =\n",
              "        google.colab.kernel.accessAllowed ? 'block' : 'none';\n",
              "\n",
              "      async function convertToInteractive(key) {\n",
              "        const element = document.querySelector('#df-7a8385df-e298-4013-b257-04a3bedddf3e');\n",
              "        const dataTable =\n",
              "          await google.colab.kernel.invokeFunction('convertToInteractive',\n",
              "                                                    [key], {});\n",
              "        if (!dataTable) return;\n",
              "\n",
              "        const docLinkHtml = 'Like what you see? Visit the ' +\n",
              "          '<a target=\"_blank\" href=https://colab.research.google.com/notebooks/data_table.ipynb>data table notebook</a>'\n",
              "          + ' to learn more about interactive tables.';\n",
              "        element.innerHTML = '';\n",
              "        dataTable['output_type'] = 'display_data';\n",
              "        await google.colab.output.renderOutput(dataTable, element);\n",
              "        const docLink = document.createElement('div');\n",
              "        docLink.innerHTML = docLinkHtml;\n",
              "        element.appendChild(docLink);\n",
              "      }\n",
              "    </script>\n",
              "  </div>\n",
              "\n",
              "\n",
              "<div id=\"df-5cda4fe4-c051-4783-a8b4-045274542a07\">\n",
              "  <button class=\"colab-df-quickchart\" onclick=\"quickchart('df-5cda4fe4-c051-4783-a8b4-045274542a07')\"\n",
              "            title=\"Suggest charts\"\n",
              "            style=\"display:none;\">\n",
              "\n",
              "<svg xmlns=\"http://www.w3.org/2000/svg\" height=\"24px\"viewBox=\"0 0 24 24\"\n",
              "     width=\"24px\">\n",
              "    <g>\n",
              "        <path d=\"M19 3H5c-1.1 0-2 .9-2 2v14c0 1.1.9 2 2 2h14c1.1 0 2-.9 2-2V5c0-1.1-.9-2-2-2zM9 17H7v-7h2v7zm4 0h-2V7h2v10zm4 0h-2v-4h2v4z\"/>\n",
              "    </g>\n",
              "</svg>\n",
              "  </button>\n",
              "\n",
              "<style>\n",
              "  .colab-df-quickchart {\n",
              "      --bg-color: #E8F0FE;\n",
              "      --fill-color: #1967D2;\n",
              "      --hover-bg-color: #E2EBFA;\n",
              "      --hover-fill-color: #174EA6;\n",
              "      --disabled-fill-color: #AAA;\n",
              "      --disabled-bg-color: #DDD;\n",
              "  }\n",
              "\n",
              "  [theme=dark] .colab-df-quickchart {\n",
              "      --bg-color: #3B4455;\n",
              "      --fill-color: #D2E3FC;\n",
              "      --hover-bg-color: #434B5C;\n",
              "      --hover-fill-color: #FFFFFF;\n",
              "      --disabled-bg-color: #3B4455;\n",
              "      --disabled-fill-color: #666;\n",
              "  }\n",
              "\n",
              "  .colab-df-quickchart {\n",
              "    background-color: var(--bg-color);\n",
              "    border: none;\n",
              "    border-radius: 50%;\n",
              "    cursor: pointer;\n",
              "    display: none;\n",
              "    fill: var(--fill-color);\n",
              "    height: 32px;\n",
              "    padding: 0;\n",
              "    width: 32px;\n",
              "  }\n",
              "\n",
              "  .colab-df-quickchart:hover {\n",
              "    background-color: var(--hover-bg-color);\n",
              "    box-shadow: 0 1px 2px rgba(60, 64, 67, 0.3), 0 1px 3px 1px rgba(60, 64, 67, 0.15);\n",
              "    fill: var(--button-hover-fill-color);\n",
              "  }\n",
              "\n",
              "  .colab-df-quickchart-complete:disabled,\n",
              "  .colab-df-quickchart-complete:disabled:hover {\n",
              "    background-color: var(--disabled-bg-color);\n",
              "    fill: var(--disabled-fill-color);\n",
              "    box-shadow: none;\n",
              "  }\n",
              "\n",
              "  .colab-df-spinner {\n",
              "    border: 2px solid var(--fill-color);\n",
              "    border-color: transparent;\n",
              "    border-bottom-color: var(--fill-color);\n",
              "    animation:\n",
              "      spin 1s steps(1) infinite;\n",
              "  }\n",
              "\n",
              "  @keyframes spin {\n",
              "    0% {\n",
              "      border-color: transparent;\n",
              "      border-bottom-color: var(--fill-color);\n",
              "      border-left-color: var(--fill-color);\n",
              "    }\n",
              "    20% {\n",
              "      border-color: transparent;\n",
              "      border-left-color: var(--fill-color);\n",
              "      border-top-color: var(--fill-color);\n",
              "    }\n",
              "    30% {\n",
              "      border-color: transparent;\n",
              "      border-left-color: var(--fill-color);\n",
              "      border-top-color: var(--fill-color);\n",
              "      border-right-color: var(--fill-color);\n",
              "    }\n",
              "    40% {\n",
              "      border-color: transparent;\n",
              "      border-right-color: var(--fill-color);\n",
              "      border-top-color: var(--fill-color);\n",
              "    }\n",
              "    60% {\n",
              "      border-color: transparent;\n",
              "      border-right-color: var(--fill-color);\n",
              "    }\n",
              "    80% {\n",
              "      border-color: transparent;\n",
              "      border-right-color: var(--fill-color);\n",
              "      border-bottom-color: var(--fill-color);\n",
              "    }\n",
              "    90% {\n",
              "      border-color: transparent;\n",
              "      border-bottom-color: var(--fill-color);\n",
              "    }\n",
              "  }\n",
              "</style>\n",
              "\n",
              "  <script>\n",
              "    async function quickchart(key) {\n",
              "      const quickchartButtonEl =\n",
              "        document.querySelector('#' + key + ' button');\n",
              "      quickchartButtonEl.disabled = true;  // To prevent multiple clicks.\n",
              "      quickchartButtonEl.classList.add('colab-df-spinner');\n",
              "      try {\n",
              "        const charts = await google.colab.kernel.invokeFunction(\n",
              "            'suggestCharts', [key], {});\n",
              "      } catch (error) {\n",
              "        console.error('Error during call to suggestCharts:', error);\n",
              "      }\n",
              "      quickchartButtonEl.classList.remove('colab-df-spinner');\n",
              "      quickchartButtonEl.classList.add('colab-df-quickchart-complete');\n",
              "    }\n",
              "    (() => {\n",
              "      let quickchartButtonEl =\n",
              "        document.querySelector('#df-5cda4fe4-c051-4783-a8b4-045274542a07 button');\n",
              "      quickchartButtonEl.style.display =\n",
              "        google.colab.kernel.accessAllowed ? 'block' : 'none';\n",
              "    })();\n",
              "  </script>\n",
              "</div>\n",
              "\n",
              "  <div id=\"id_f3b4a37e-1c63-415c-9ff0-501d4c263ca4\">\n",
              "    <style>\n",
              "      .colab-df-generate {\n",
              "        background-color: #E8F0FE;\n",
              "        border: none;\n",
              "        border-radius: 50%;\n",
              "        cursor: pointer;\n",
              "        display: none;\n",
              "        fill: #1967D2;\n",
              "        height: 32px;\n",
              "        padding: 0 0 0 0;\n",
              "        width: 32px;\n",
              "      }\n",
              "\n",
              "      .colab-df-generate:hover {\n",
              "        background-color: #E2EBFA;\n",
              "        box-shadow: 0px 1px 2px rgba(60, 64, 67, 0.3), 0px 1px 3px 1px rgba(60, 64, 67, 0.15);\n",
              "        fill: #174EA6;\n",
              "      }\n",
              "\n",
              "      [theme=dark] .colab-df-generate {\n",
              "        background-color: #3B4455;\n",
              "        fill: #D2E3FC;\n",
              "      }\n",
              "\n",
              "      [theme=dark] .colab-df-generate:hover {\n",
              "        background-color: #434B5C;\n",
              "        box-shadow: 0px 1px 3px 1px rgba(0, 0, 0, 0.15);\n",
              "        filter: drop-shadow(0px 1px 2px rgba(0, 0, 0, 0.3));\n",
              "        fill: #FFFFFF;\n",
              "      }\n",
              "    </style>\n",
              "    <button class=\"colab-df-generate\" onclick=\"generateWithVariable('train_ds')\"\n",
              "            title=\"Generate code using this dataframe.\"\n",
              "            style=\"display:none;\">\n",
              "\n",
              "  <svg xmlns=\"http://www.w3.org/2000/svg\" height=\"24px\"viewBox=\"0 0 24 24\"\n",
              "       width=\"24px\">\n",
              "    <path d=\"M7,19H8.4L18.45,9,17,7.55,7,17.6ZM5,21V16.75L18.45,3.32a2,2,0,0,1,2.83,0l1.4,1.43a1.91,1.91,0,0,1,.58,1.4,1.91,1.91,0,0,1-.58,1.4L9.25,21ZM18.45,9,17,7.55Zm-12,3A5.31,5.31,0,0,0,4.9,8.1,5.31,5.31,0,0,0,1,6.5,5.31,5.31,0,0,0,4.9,4.9,5.31,5.31,0,0,0,6.5,1,5.31,5.31,0,0,0,8.1,4.9,5.31,5.31,0,0,0,12,6.5,5.46,5.46,0,0,0,6.5,12Z\"/>\n",
              "  </svg>\n",
              "    </button>\n",
              "    <script>\n",
              "      (() => {\n",
              "      const buttonEl =\n",
              "        document.querySelector('#id_f3b4a37e-1c63-415c-9ff0-501d4c263ca4 button.colab-df-generate');\n",
              "      buttonEl.style.display =\n",
              "        google.colab.kernel.accessAllowed ? 'block' : 'none';\n",
              "\n",
              "      buttonEl.onclick = () => {\n",
              "        google.colab.notebook.generateWithVariable('train_ds');\n",
              "      }\n",
              "      })();\n",
              "    </script>\n",
              "  </div>\n",
              "\n",
              "    </div>\n",
              "  </div>\n"
            ],
            "application/vnd.google.colaboratory.intrinsic+json": {
              "type": "dataframe",
              "variable_name": "train_ds",
              "summary": "{\n  \"name\": \"train_ds\",\n  \"rows\": 80,\n  \"fields\": [\n    {\n      \"column\": \"Simple\",\n      \"properties\": {\n        \"dtype\": \"string\",\n        \"num_unique_values\": 80,\n        \"samples\": [\n          \"If someone is wearing_color, then the probability that they are blue is 0.5577032953033384\\nIf someone is not wearing_color, then the probability that they are red is 0.5577032953033384\\nIf someone is wearing_color, then the probability that they are not red is 0.44229670469666166\\nIf someone is not wearing_color, then the probability that they are white is 0.5577032953033384\\nIf someone is wearing_color, then the probability that they are white is 0.5577032953033384\\nThere is a probability of 0.36186177420161986 that Neimad is wearing_color today.\\nIf someone is blue, then the probability that they are not wearing_color is 0.6381382257983802\\nThere is a probability of 0.6381382257983802 that Neimad is not wearing_color today.\\nThere is a probability of 0.5577032953033384 that Neimad is blue today.\\nWhat is the probability that Neimad is red ?\",\n          \"If someone is not wearing_color, then the probability that they are not blue is 0.44229670469666166\\nIf someone is wearing_color, then the probability that they are not blue is 0.44229670469666166\\nIf someone is not blue and not wearing_color, then the probability that they are red is 0.40461687860698375\\nIf someone is blue and not wearing_color, then the probability that they are not red is 0.5953831213930163\\nIf someone is blue and wearing_color, then the probability that they are not red is 0.5953831213930163\\nIf someone is not wearing_color, then the probability that they are not white is 0.44229670469666166\\nIf someone is wearing_color, then the probability that they are not white is 0.44229670469666166\\nThere is a probability of 0.36186177420161986 that Neimad is wearing_color today.\\nIf someone is red, then the probability that they are wearing_color and not blue is 0.13977014250582878\\nThere is a probability of 0.40461687860698375 that Neimad is red today.\\nThere is a probability of 0.13977014250582878 that Neimad is wearing_color and not blue today.\\nWhat is the probability that Neimad is red given he is wearing_color ?\",\n          \"If someone is wearing_color, then the probability that they are not blue is 0.44229670469666166\\nIf someone is not blue and not wearing_color, then the probability that they are red is 0.40461687860698375\\nIf someone is blue and not wearing_color, then the probability that they are not red is 0.5953831213930163\\nIf someone is wearing_color and not blue, then the probability that they are not red is 0.5953831213930163\\nIf someone is blue and wearing_color, then the probability that they are not red is 0.5953831213930163\\nIf someone is not blue and not wearing_color, then the probability that they are white is 0.40461687860698375\\nIf someone is blue and not wearing_color, then the probability that they are white is 0.40461687860698375\\nIf someone is wearing_color and not blue, then the probability that they are white is 0.40461687860698375\\nIf someone is blue and wearing_color, then the probability that they are not white is 0.5953831213930163\\nThere is a probability of 0.36186177420161986 that Neimad is wearing_color today.\\nIf someone is not blue, then the probability that they are not wearing_color is 0.6381382257983802\\nThere is a probability of 0.44229670469666166 that Neimad is not blue today.\\nThere is a probability of 0.6381382257983802 that Neimad is not wearing_color today.\\nWhat is the probability that Neimad is white ?\"\n        ],\n        \"semantic_type\": \"\",\n        \"description\": \"\"\n      }\n    },\n    {\n      \"column\": \"AnswerSimple\",\n      \"properties\": {\n        \"dtype\": \"number\",\n        \"std\": 0.07468423263306183,\n        \"min\": 0.3534579632107433,\n        \"max\": 0.5577032953033384,\n        \"num_unique_values\": 5,\n        \"samples\": [\n          0.4182407511996224,\n          0.3534579632107433,\n          0.5577032953033384\n        ],\n        \"semantic_type\": \"\",\n        \"description\": \"\"\n      }\n    },\n    {\n      \"column\": \"Do\",\n      \"properties\": {\n        \"dtype\": \"string\",\n        \"num_unique_values\": 80,\n        \"samples\": [\n          \"If someone is wearing_color, then the probability that they are blue is 0.5577032953033384\\nIf someone is not wearing_color, then the probability that they are red is 0.5577032953033384\\nIf someone is wearing_color, then the probability that they are not red is 0.44229670469666166\\nIf someone is not wearing_color, then the probability that they are white is 0.5577032953033384\\nIf someone is wearing_color, then the probability that they are white is 0.5577032953033384\\nThere is a probability of 0.36186177420161986 that Neimad is wearing_color today.\\nIf someone is blue, then the probability that they are not wearing_color is 0.6381382257983802\\nThere is a probability of 0.6381382257983802 that Neimad is not wearing_color today.\\nThere is a probability of 0.5577032953033384 that Neimad is blue today.\\nLet's suppose that Neimad's boss forced him to be blue\\nWhat is the probability that Neimad is red ?\",\n          \"If someone is not wearing_color, then the probability that they are not blue is 0.44229670469666166\\nIf someone is wearing_color, then the probability that they are not blue is 0.44229670469666166\\nIf someone is not blue and not wearing_color, then the probability that they are red is 0.40461687860698375\\nIf someone is blue and not wearing_color, then the probability that they are not red is 0.5953831213930163\\nIf someone is blue and wearing_color, then the probability that they are not red is 0.5953831213930163\\nIf someone is not wearing_color, then the probability that they are not white is 0.44229670469666166\\nIf someone is wearing_color, then the probability that they are not white is 0.44229670469666166\\nThere is a probability of 0.36186177420161986 that Neimad is wearing_color today.\\nIf someone is red, then the probability that they are wearing_color and not blue is 0.13977014250582878\\nThere is a probability of 0.40461687860698375 that Neimad is red today.\\nThere is a probability of 0.13977014250582878 that Neimad is wearing_color and not blue today.\\nLet's suppose that Neimad's boss forced him to be white\\nWhat is the probability that Neimad is red given he is wearing_color ?\",\n          \"If someone is wearing_color, then the probability that they are not blue is 0.44229670469666166\\nIf someone is not blue and not wearing_color, then the probability that they are red is 0.40461687860698375\\nIf someone is blue and not wearing_color, then the probability that they are not red is 0.5953831213930163\\nIf someone is wearing_color and not blue, then the probability that they are not red is 0.5953831213930163\\nIf someone is blue and wearing_color, then the probability that they are not red is 0.5953831213930163\\nIf someone is not blue and not wearing_color, then the probability that they are white is 0.40461687860698375\\nIf someone is blue and not wearing_color, then the probability that they are white is 0.40461687860698375\\nIf someone is wearing_color and not blue, then the probability that they are white is 0.40461687860698375\\nIf someone is blue and wearing_color, then the probability that they are not white is 0.5953831213930163\\nThere is a probability of 0.36186177420161986 that Neimad is wearing_color today.\\nIf someone is not blue, then the probability that they are not wearing_color is 0.6381382257983802\\nThere is a probability of 0.44229670469666166 that Neimad is not blue today.\\nThere is a probability of 0.6381382257983802 that Neimad is not wearing_color today.\\nLet's suppose that Neimad's boss forced him to be red\\nWhat is the probability that Neimad is white ?\"\n        ],\n        \"semantic_type\": \"\",\n        \"description\": \"\"\n      }\n    },\n    {\n      \"column\": \"AnswerDo\",\n      \"properties\": {\n        \"dtype\": \"number\",\n        \"std\": 0.07468423263306183,\n        \"min\": 0.3534579632107433,\n        \"max\": 0.5577032953033384,\n        \"num_unique_values\": 5,\n        \"samples\": [\n          0.4182407511996224,\n          0.3534579632107433,\n          0.5577032953033384\n        ],\n        \"semantic_type\": \"\",\n        \"description\": \"\"\n      }\n    },\n    {\n      \"column\": \"Group\",\n      \"properties\": {\n        \"dtype\": \"string\",\n        \"num_unique_values\": 80,\n        \"samples\": [\n          \"If someone is wearing_color, then the probability that they are blue is 0.5577032953033384\\nIf someone is not wearing_color, then the probability that they are red is 0.5577032953033384\\nIf someone is wearing_color, then the probability that they are not red is 0.44229670469666166\\nIf someone is not wearing_color, then the probability that they are white is 0.5577032953033384\\nIf someone is wearing_color, then the probability that they are white is 0.5577032953033384\\nThere is a probability of 0.36186177420161986 that Neimad is wearing_color today.\\nIf someone is blue, then the probability that they are not wearing_color is 0.6381382257983802\\nThere is a probability of 0.6381382257983802 that Neimad is not wearing_color today.\\nThere is a probability of 0.5577032953033384 that Neimad is blue today.\\nWe consider 2 people at Neimad's work that are blue and not blue or not white or not wearing_color.\\nWhat is the probability that less than 2 people are red ?\",\n          \"If someone is not wearing_color, then the probability that they are not blue is 0.44229670469666166\\nIf someone is wearing_color, then the probability that they are not blue is 0.44229670469666166\\nIf someone is not blue and not wearing_color, then the probability that they are red is 0.40461687860698375\\nIf someone is blue and not wearing_color, then the probability that they are not red is 0.5953831213930163\\nIf someone is blue and wearing_color, then the probability that they are not red is 0.5953831213930163\\nIf someone is not wearing_color, then the probability that they are not white is 0.44229670469666166\\nIf someone is wearing_color, then the probability that they are not white is 0.44229670469666166\\nThere is a probability of 0.36186177420161986 that Neimad is wearing_color today.\\nIf someone is red, then the probability that they are wearing_color and not blue is 0.13977014250582878\\nThere is a probability of 0.40461687860698375 that Neimad is red today.\\nThere is a probability of 0.13977014250582878 that Neimad is wearing_color and not blue today.\\nWe consider 4 people at Neimad's work that are blue and blue or red or not blue.\\nWhat is the probability that less than 0 person is red given they are wearing_color ?\",\n          \"If someone is wearing_color, then the probability that they are not blue is 0.44229670469666166\\nIf someone is not blue and not wearing_color, then the probability that they are red is 0.40461687860698375\\nIf someone is blue and not wearing_color, then the probability that they are not red is 0.5953831213930163\\nIf someone is wearing_color and not blue, then the probability that they are not red is 0.5953831213930163\\nIf someone is blue and wearing_color, then the probability that they are not red is 0.5953831213930163\\nIf someone is not blue and not wearing_color, then the probability that they are white is 0.40461687860698375\\nIf someone is blue and not wearing_color, then the probability that they are white is 0.40461687860698375\\nIf someone is wearing_color and not blue, then the probability that they are white is 0.40461687860698375\\nIf someone is blue and wearing_color, then the probability that they are not white is 0.5953831213930163\\nThere is a probability of 0.36186177420161986 that Neimad is wearing_color today.\\nIf someone is not blue, then the probability that they are not wearing_color is 0.6381382257983802\\nThere is a probability of 0.44229670469666166 that Neimad is not blue today.\\nThere is a probability of 0.6381382257983802 that Neimad is not wearing_color today.\\nWe consider 2 people at Neimad's work that are not blue and wearing_color or not red.\\nWhat is the probability that less than 2 people are white ?\"\n        ],\n        \"semantic_type\": \"\",\n        \"description\": \"\"\n      }\n    },\n    {\n      \"column\": \"AnswerGroup\",\n      \"properties\": {\n        \"dtype\": \"number\",\n        \"std\": 0.41507825650896313,\n        \"min\": -2.220446049250313e-16,\n        \"max\": 1.0000000000000004,\n        \"num_unique_values\": 40,\n        \"samples\": [\n          0.2678953023726983,\n          0.1845594899537702,\n          0.8763578179707017\n        ],\n        \"semantic_type\": \"\",\n        \"description\": \"\"\n      }\n    },\n    {\n      \"column\": \"token_length\",\n      \"properties\": {\n        \"dtype\": \"number\",\n        \"std\": 74,\n        \"min\": 237,\n        \"max\": 503,\n        \"num_unique_values\": 53,\n        \"samples\": [\n          303,\n          492,\n          501\n        ],\n        \"semantic_type\": \"\",\n        \"description\": \"\"\n      }\n    }\n  ]\n}"
            }
          },
          "metadata": {},
          "execution_count": 55
        }
      ]
    },
    {
      "cell_type": "code",
      "source": [],
      "metadata": {
        "id": "52WM8R671kq8"
      },
      "execution_count": null,
      "outputs": []
    }
  ]
}